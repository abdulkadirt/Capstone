{
 "cells": [
  {
   "cell_type": "code",
   "execution_count": 1,
   "metadata": {},
   "outputs": [],
   "source": [
    "import os\n",
    "import glob\n",
    "import duckdb\n",
    "import optuna\n",
    "import numpy as np\n",
    "import pandas as pd\n",
    "import matplotlib.pyplot as plt\n",
    "import seaborn as sns\n",
    "\n",
    "import warnings\n",
    "warnings.filterwarnings('ignore')\n",
    "\n",
    "pd.set_option('display.max_columns', None)\n",
    "pd.set_option('display.max_rows', None)\n",
    "pd.set_option('display.float_format', lambda x: '%.3f' % x)\n",
    "pd.set_option('display.width', 500)\n",
    "\n",
    "from sklearn.model_selection import train_test_split\n",
    "from sklearn.preprocessing import LabelEncoder\n",
    "\n",
    "from lightgbm import LGBMClassifier\n",
    "from xgboost import XGBClassifier\n",
    "from sklearn.metrics import roc_auc_score\n",
    "from sklearn.metrics import classification_report, accuracy_score"
   ]
  },
  {
   "cell_type": "code",
   "execution_count": 2,
   "metadata": {},
   "outputs": [
    {
     "name": "stdout",
     "output_type": "stream",
     "text": [
      "✅ Model başarıyla yüklendi!\n"
     ]
    }
   ],
   "source": [
    "import joblib  \n",
    "\n",
    "# Modeli dosya yolundan yükleyelim\n",
    "model_path = r\"C:\\Users\\Abdulkadir\\Desktop\\TurkTelekom\\capstone\\optimized_lightgbm.pkl\"\n",
    "optimized_lgbm = joblib.load(model_path)\n",
    "\n",
    "print(\"✅ Model başarıyla yüklendi!\")"
   ]
  },
  {
   "cell_type": "code",
   "execution_count": 3,
   "metadata": {},
   "outputs": [],
   "source": [
    "# Test setini yükle\n",
    "test_df = pd.read_csv(\"test_set.csv\")\n",
    "\n",
    "# Gerçek churn değerlerini sakla (karşılaştırma için)\n",
    "true_churn = test_df[\"churn\"].copy()  \n",
    "\n",
    "# Modelin erişmemesi için churn sütununu kaldır\n",
    "test_df = test_df.drop(columns=[\"churn\"], errors=\"ignore\")"
   ]
  },
  {
   "cell_type": "code",
   "execution_count": null,
   "metadata": {},
   "outputs": [],
   "source": []
  },
  {
   "cell_type": "markdown",
   "metadata": {},
   "source": [
    "### Eksik Veri analizi"
   ]
  },
  {
   "cell_type": "code",
   "execution_count": 4,
   "metadata": {},
   "outputs": [
    {
     "name": "stdout",
     "output_type": "stream",
     "text": [
      "Eksik değer sayıları:\n",
      "id                        0\n",
      "age                       0\n",
      "tenure                    0\n",
      "service_type              0\n",
      "avg_call_duration         0\n",
      "data_usage                0\n",
      "roaming_usage             0\n",
      "monthly_charge            5\n",
      "overdue_payments          0\n",
      "auto_payment              0\n",
      "avg_top_up_count          0\n",
      "call_drops                0\n",
      "customer_support_calls    0\n",
      "satisfaction_score        0\n",
      "apps                      0\n",
      "dtype: int64\n"
     ]
    }
   ],
   "source": [
    "# 1️⃣ roaming_usage → Eğer eksikse, hiç kullanmamıştır (0 ile doldur)\n",
    "test_df['roaming_usage'] = test_df['roaming_usage'].fillna(0)\n",
    "\n",
    "# 2️⃣ auto_payment → Eksikler -1 ile doldurulmalı ve int'e çevrilmeli\n",
    "test_df['auto_payment'] = test_df['auto_payment'].fillna(-1).astype(int)\n",
    "\n",
    "# 3️⃣ avg_call_duration → Eğer fatura bilgisi (monthly_charge) eksikse veya 0'sa, hiç konuşma yapmamıştır (0 ile doldur)\n",
    "test_df.loc[\n",
    "    ((test_df['avg_call_duration'].isnull()) | (test_df['avg_call_duration'] == 0)) &\n",
    "    ((test_df['data_usage'].isnull()) | (test_df['data_usage'] == 0)) &\n",
    "    (test_df['monthly_charge'].isnull()), \n",
    "    'monthly_charge'\n",
    "] = 0\n",
    "\n",
    "test_df['avg_call_duration'] = test_df['avg_call_duration'].fillna(-1)\n",
    "\n",
    "# 4️⃣ call_drops → Eğer service_type \"Broadband\" ise 0 ile doldur, kalanları medyan ile doldur\n",
    "test_df.loc[test_df['service_type'] == \"Broadband\", 'call_drops'] = 0\n",
    "test_df['call_drops'] = test_df['call_drops'].fillna(test_df['call_drops'].median())\n",
    "\n",
    "# 5️⃣ monthly_charge → Yaş (age) ve avg_top_up_count'e göre doldur (Sadece NaN olanları değiştir)\n",
    "test_df['monthly_charge'] = test_df['monthly_charge'].where(test_df['monthly_charge'].notnull(),\n",
    "    test_df.groupby(['age', 'avg_top_up_count'])['monthly_charge'].transform('mean'))\n",
    "\n",
    "# 6️⃣ data_usage → Eksik kayıtları silebiliriz çünkü oran düşük\n",
    "test_df = test_df.dropna(subset=['data_usage'])\n",
    "\n",
    "# 7️⃣ tenure → Yaş bazlı gruplara göre dolduralım (Sadece NaN olanları değiştir)\n",
    "test_df['tenure'] = test_df['tenure'].where(test_df['tenure'].notnull(),\n",
    "    test_df.groupby('age')['tenure'].transform('median'))\n",
    "\n",
    "# 8️⃣ Son eksik verileri kontrol edelim\n",
    "print(\"Eksik değer sayıları:\")\n",
    "print(test_df.isnull().sum())"
   ]
  },
  {
   "cell_type": "code",
   "execution_count": 5,
   "metadata": {},
   "outputs": [],
   "source": [
    "test_df = test_df.dropna(subset=['monthly_charge'])"
   ]
  },
  {
   "cell_type": "markdown",
   "metadata": {},
   "source": [
    "#### Yeni Özellik"
   ]
  },
  {
   "cell_type": "code",
   "execution_count": 6,
   "metadata": {},
   "outputs": [],
   "source": [
    "# Apps sütununu işlemeyi unutmayalım\n",
    "test_df[\"apps\"] = test_df[\"apps\"].apply(lambda x: x if x != \"[]\" else \"\")\n",
    "test_df[\"app_count\"] = test_df[\"apps\"].apply(lambda x: len(x.split(\",\")) if x else 0)\n",
    "\n",
    "test_df[\"dissatisfaction_score\"] = test_df[\"monthly_charge\"] / (test_df[\"data_usage\"] + test_df[\"avg_call_duration\"] + 1)\n",
    "\n",
    "\n",
    "# Memnuniyet Kategorisi\n",
    "test_df[\"satisfaction_category\"] = pd.cut(test_df[\"satisfaction_score\"], bins=[0, 4, 7, 10], labels=[\"Düşük\", \"Orta\", \"Yüksek\"])\n",
    "\n",
    "# Destek Çağrılarının Etkisi\n",
    "test_df[\"support_call_impact\"] = test_df[\"customer_support_calls\"] / (test_df[\"satisfaction_score\"] + 1)\n",
    "\n",
    "# Aylık Fatura Kategorisi\n",
    "test_df[\"billing_category\"] = pd.cut(test_df[\"monthly_charge\"], bins=[0, 250, 500, 1000, 2500], labels=[\"Düşük\", \"Orta\", \"Yüksek\", \"Premium\"])\n",
    "\n",
    "# Finansal Risk Skoru\n",
    "test_df[\"financial_risk_score\"] = test_df[\"monthly_charge\"] * test_df[\"overdue_payments\"] / (test_df[\"avg_top_up_count\"] + 1)\n",
    "\n",
    "# Yaş Segmenti\n",
    "test_df[\"age_group\"] = pd.cut(test_df[\"age\"], bins=[16, 25, 35, 50, 85], labels=[\"Genç\", \"Orta\", \"Yetişkin\", \"Yaşlı\"])\n",
    "\n",
    "# Roaming Kullanım Segmenti\n",
    "test_df[\"roaming_usage_category\"] = pd.cut(test_df[\"roaming_usage\"], bins=[-1, 0, 10, 50, 1000], labels=[\"Hiç Kullanmadı\", \"Ara Sıra\", \"Sık Kullanıcı\", \"Çok Sık Kullanıcı\"])\n",
    "\n",
    "# Sadakat Skoru\n",
    "test_df[\"loyalty_score\"] = test_df[\"tenure\"] * test_df[\"avg_top_up_count\"] / (test_df[\"customer_support_calls\"] + 1)\n",
    "\n",
    "# Fatura Ağırlığı\n",
    "test_df[\"billing_weight\"] = test_df[\"monthly_charge\"] / (test_df[\"age\"] + 1)\n"
   ]
  },
  {
   "cell_type": "code",
   "execution_count": 7,
   "metadata": {},
   "outputs": [],
   "source": [
    "test_df.to_csv(\"HadiArtık.csv\" , index =  False)"
   ]
  },
  {
   "cell_type": "markdown",
   "metadata": {},
   "source": [
    "### Encoding"
   ]
  },
  {
   "cell_type": "code",
   "execution_count": 8,
   "metadata": {},
   "outputs": [],
   "source": [
    "# Mapping tanımları\n",
    "service_type_map = {\"Prepaid\": 0, \"Broadband\": 1, \"Postpaid\": 2}\n",
    "billing_category_map = {\"Düşük\": 0, \"Orta\": 1, \"Yüksek\": 2, \"Premium\": 3}\n",
    "age_group_map = {\"Yaşlı\": 0, \"Orta\": 1, \"Yetişkin\": 2, \"Genç\": 3}\n",
    "roaming_usage_map = {\"Hiç Kullanmadı\": 0, \"Ara Sıra\": 1, \"Sık Kullanıcı\": 2, \"Çok Sık Kullanıcı\": 3}\n",
    "\n",
    "# Encoding\n",
    "test_df[\"service_type\"] = test_df[\"service_type\"].map(service_type_map)\n",
    "test_df[\"billing_category\"] = test_df[\"billing_category\"].map(billing_category_map)\n",
    "test_df[\"age_group\"] = test_df[\"age_group\"].map(age_group_map)\n",
    "test_df[\"roaming_usage_category\"] = test_df[\"roaming_usage_category\"].map(roaming_usage_map)\n",
    "\n",
    "# Label Encoding - Satisfaction Category\n",
    "from sklearn.preprocessing import LabelEncoder\n",
    "le = LabelEncoder()\n",
    "test_df[\"satisfaction_category\"] = le.fit_transform(test_df[\"satisfaction_category\"])\n"
   ]
  },
  {
   "cell_type": "code",
   "execution_count": 9,
   "metadata": {},
   "outputs": [],
   "source": [
    "test_df = test_df.drop(columns=[\"id\", \"apps\"])"
   ]
  },
  {
   "cell_type": "code",
   "execution_count": 10,
   "metadata": {},
   "outputs": [
    {
     "name": "stdout",
     "output_type": "stream",
     "text": [
      "✅ Test verisi başarıyla hazırlandı!\n"
     ]
    }
   ],
   "source": [
    "category_cols = [\"billing_category\", \"roaming_usage_category\", \"age_group\"]\n",
    "for col in category_cols:\n",
    "    test_df[col] = test_df[col].astype(int)\n",
    "\n",
    "print(\"✅ Test verisi başarıyla hazırlandı!\")\n"
   ]
  },
  {
   "cell_type": "code",
   "execution_count": 11,
   "metadata": {},
   "outputs": [],
   "source": [
    "# # Modelin beklediği feature'ları al\n",
    "# expected_features = optimized_lgbm.feature_name_\n",
    "\n",
    "# # Test setindeki feature'ları al\n",
    "# actual_features = X_real_test.columns.tolist()\n",
    "\n",
    "# # Eksik olanları bul\n",
    "# missing_features = list(set(expected_features) - set(actual_features))\n",
    "\n",
    "# print(\"⚠️ Eksik olan feature:\", missing_features)\n"
   ]
  },
  {
   "cell_type": "code",
   "execution_count": 12,
   "metadata": {},
   "outputs": [
    {
     "name": "stdout",
     "output_type": "stream",
     "text": [
      "✅ Tahmin başarıyla yapıldı!\n",
      "   churn_prediction  churn_probability\n",
      "0             False              0.127\n",
      "1              True              0.626\n",
      "2             False              0.439\n",
      "3             False              0.296\n",
      "4              True              0.632\n",
      "5              True              0.644\n",
      "6              True              0.764\n",
      "7             False              0.096\n",
      "8             False              0.092\n",
      "9              True              0.620\n"
     ]
    }
   ],
   "source": [
    "# Modelin beklediği formatta X_test'i oluştur\n",
    "X_real_test = test_df.copy()\n",
    "\n",
    "# Model ile tahmin yap\n",
    "y_real_pred = optimized_lgbm.predict(X_real_test)\n",
    "y_real_proba = optimized_lgbm.predict_proba(X_real_test)[:, 1]\n",
    "\n",
    "# Sonuçları test setine ekleyelim\n",
    "test_df[\"churn_prediction\"] = y_real_pred\n",
    "test_df[\"churn_probability\"] = y_real_proba\n",
    "\n",
    "print(\"✅ Tahmin başarıyla yapıldı!\")\n",
    "print(test_df[[\"churn_prediction\", \"churn_probability\"]].head(10))\n"
   ]
  },
  {
   "cell_type": "code",
   "execution_count": 13,
   "metadata": {},
   "outputs": [
    {
     "name": "stdout",
     "output_type": "stream",
     "text": [
      "Test set boyutu: 950117\n",
      "Gerçek churn etiketleri boyutu: 1000000\n"
     ]
    }
   ],
   "source": [
    "print(\"Test set boyutu:\", test_df.shape[0])\n",
    "print(\"Gerçek churn etiketleri boyutu:\", true_churn.shape[0])"
   ]
  },
  {
   "cell_type": "code",
   "execution_count": 14,
   "metadata": {},
   "outputs": [
    {
     "name": "stdout",
     "output_type": "stream",
     "text": [
      "✅ Güncellenmiş churn etiketi boyutu: 950117\n"
     ]
    }
   ],
   "source": [
    "# Güncellenmiş true_churn dizisini oluştur\n",
    "true_churn = true_churn.loc[test_df.index].reset_index(drop=True)\n",
    "\n",
    "print(\"✅ Güncellenmiş churn etiketi boyutu:\", true_churn.shape[0])\n"
   ]
  },
  {
   "cell_type": "code",
   "execution_count": 15,
   "metadata": {},
   "outputs": [
    {
     "name": "stdout",
     "output_type": "stream",
     "text": [
      "\n",
      "🔍 Final Model Evaluation:\n",
      "              precision    recall  f1-score   support\n",
      "\n",
      "       False       1.00      0.67      0.80    937430\n",
      "        True       0.03      0.82      0.06     12687\n",
      "\n",
      "    accuracy                           0.67    950117\n",
      "   macro avg       0.51      0.74      0.43    950117\n",
      "weighted avg       0.98      0.67      0.79    950117\n",
      "\n",
      "\n",
      "📈 Final ROC AUC Score: 0.7980563468420538\n",
      "⚡ Final Accuracy Score: 0.6679335281865286\n"
     ]
    }
   ],
   "source": [
    "from sklearn.metrics import classification_report, roc_auc_score, accuracy_score\n",
    "\n",
    "# Model performans raporu\n",
    "print(\"\\n🔍 Final Model Evaluation:\")\n",
    "print(classification_report(true_churn, test_df[\"churn_prediction\"]))\n",
    "\n",
    "print(\"\\n📈 Final ROC AUC Score:\", roc_auc_score(true_churn, test_df[\"churn_probability\"]))\n",
    "print(\"⚡ Final Accuracy Score:\", accuracy_score(true_churn, test_df[\"churn_prediction\"]))\n"
   ]
  },
  {
   "cell_type": "code",
   "execution_count": 16,
   "metadata": {},
   "outputs": [
    {
     "data": {
      "image/png": "[encoded data removed]",
      "text/plain": [
       "<Figure size 1000x600 with 1 Axes>"
      ]
     },
     "metadata": {},
     "output_type": "display_data"
    }
   ],
   "source": [
    "import matplotlib.pyplot as plt\n",
    "import seaborn as sns\n",
    "\n",
    "# Feature importance'ı alalım\n",
    "feature_importances = optimized_lgbm.feature_importances_\n",
    "feature_names = X_real_test.columns\n",
    "\n",
    "# DataFrame'e çevirelim\n",
    "feat_imp_df = pd.DataFrame({\"Feature\": feature_names, \"Importance\": feature_importances})\n",
    "feat_imp_df = feat_imp_df.sort_values(by=\"Importance\", ascending=False)\n",
    "\n",
    "# Görselleştirelim\n",
    "plt.figure(figsize=(10, 6))\n",
    "sns.barplot(x=\"Importance\", y=\"Feature\", data=feat_imp_df.head(15), palette=\"viridis\")\n",
    "plt.title(\"Model için en Önemli 15 Özellik\")\n",
    "plt.show()\n"
   ]
  },
  {
   "cell_type": "code",
   "execution_count": 17,
   "metadata": {},
   "outputs": [
    {
     "data": {
      "text/html": [
       "<div>\n",
       "<style scoped>\n",
       "    .dataframe tbody tr th:only-of-type {\n",
       "        vertical-align: middle;\n",
       "    }\n",
       "\n",
       "    .dataframe tbody tr th {\n",
       "        vertical-align: top;\n",
       "    }\n",
       "\n",
       "    .dataframe thead th {\n",
       "        text-align: right;\n",
       "    }\n",
       "</style>\n",
       "<table border=\"1\" class=\"dataframe\">\n",
       "  <thead>\n",
       "    <tr style=\"text-align: right;\">\n",
       "      <th></th>\n",
       "      <th>churn_probability</th>\n",
       "      <th>tenure</th>\n",
       "      <th>satisfaction_score</th>\n",
       "      <th>data_usage</th>\n",
       "      <th>age</th>\n",
       "      <th>billing_category</th>\n",
       "      <th>billing_weight</th>\n",
       "      <th>monthly_charge</th>\n",
       "      <th>roaming_usage</th>\n",
       "      <th>financial_risk_score</th>\n",
       "    </tr>\n",
       "  </thead>\n",
       "  <tbody>\n",
       "    <tr>\n",
       "      <th>959084</th>\n",
       "      <td>0.914</td>\n",
       "      <td>59.000</td>\n",
       "      <td>2.060</td>\n",
       "      <td>5.720</td>\n",
       "      <td>50</td>\n",
       "      <td>0</td>\n",
       "      <td>1.805</td>\n",
       "      <td>92.030</td>\n",
       "      <td>21.780</td>\n",
       "      <td>368.120</td>\n",
       "    </tr>\n",
       "    <tr>\n",
       "      <th>442420</th>\n",
       "      <td>0.914</td>\n",
       "      <td>26.000</td>\n",
       "      <td>1.030</td>\n",
       "      <td>3.670</td>\n",
       "      <td>55</td>\n",
       "      <td>1</td>\n",
       "      <td>7.718</td>\n",
       "      <td>432.220</td>\n",
       "      <td>48.330</td>\n",
       "      <td>1296.660</td>\n",
       "    </tr>\n",
       "    <tr>\n",
       "      <th>979832</th>\n",
       "      <td>0.911</td>\n",
       "      <td>6.000</td>\n",
       "      <td>2.490</td>\n",
       "      <td>2.880</td>\n",
       "      <td>33</td>\n",
       "      <td>1</td>\n",
       "      <td>10.565</td>\n",
       "      <td>359.210</td>\n",
       "      <td>53.770</td>\n",
       "      <td>1436.840</td>\n",
       "    </tr>\n",
       "    <tr>\n",
       "      <th>945610</th>\n",
       "      <td>0.906</td>\n",
       "      <td>3.000</td>\n",
       "      <td>1.390</td>\n",
       "      <td>13.850</td>\n",
       "      <td>33</td>\n",
       "      <td>2</td>\n",
       "      <td>23.399</td>\n",
       "      <td>795.550</td>\n",
       "      <td>20.050</td>\n",
       "      <td>3182.200</td>\n",
       "    </tr>\n",
       "    <tr>\n",
       "      <th>84942</th>\n",
       "      <td>0.905</td>\n",
       "      <td>13.000</td>\n",
       "      <td>2.090</td>\n",
       "      <td>169.970</td>\n",
       "      <td>34</td>\n",
       "      <td>1</td>\n",
       "      <td>9.911</td>\n",
       "      <td>346.880</td>\n",
       "      <td>20.980</td>\n",
       "      <td>1387.520</td>\n",
       "    </tr>\n",
       "    <tr>\n",
       "      <th>718346</th>\n",
       "      <td>0.904</td>\n",
       "      <td>70.000</td>\n",
       "      <td>2.530</td>\n",
       "      <td>7.760</td>\n",
       "      <td>34</td>\n",
       "      <td>1</td>\n",
       "      <td>10.722</td>\n",
       "      <td>375.270</td>\n",
       "      <td>53.310</td>\n",
       "      <td>1501.080</td>\n",
       "    </tr>\n",
       "    <tr>\n",
       "      <th>486461</th>\n",
       "      <td>0.904</td>\n",
       "      <td>10.000</td>\n",
       "      <td>2.750</td>\n",
       "      <td>199.540</td>\n",
       "      <td>35</td>\n",
       "      <td>2</td>\n",
       "      <td>24.580</td>\n",
       "      <td>884.870</td>\n",
       "      <td>4.930</td>\n",
       "      <td>2654.610</td>\n",
       "    </tr>\n",
       "    <tr>\n",
       "      <th>253456</th>\n",
       "      <td>0.903</td>\n",
       "      <td>136.000</td>\n",
       "      <td>2.870</td>\n",
       "      <td>14.400</td>\n",
       "      <td>49</td>\n",
       "      <td>2</td>\n",
       "      <td>17.416</td>\n",
       "      <td>870.810</td>\n",
       "      <td>56.850</td>\n",
       "      <td>3483.240</td>\n",
       "    </tr>\n",
       "    <tr>\n",
       "      <th>119935</th>\n",
       "      <td>0.902</td>\n",
       "      <td>53.000</td>\n",
       "      <td>1.170</td>\n",
       "      <td>8.460</td>\n",
       "      <td>45</td>\n",
       "      <td>1</td>\n",
       "      <td>7.333</td>\n",
       "      <td>337.340</td>\n",
       "      <td>51.620</td>\n",
       "      <td>1012.020</td>\n",
       "    </tr>\n",
       "    <tr>\n",
       "      <th>177528</th>\n",
       "      <td>0.902</td>\n",
       "      <td>4.000</td>\n",
       "      <td>2.690</td>\n",
       "      <td>166.360</td>\n",
       "      <td>39</td>\n",
       "      <td>2</td>\n",
       "      <td>15.471</td>\n",
       "      <td>618.820</td>\n",
       "      <td>46.020</td>\n",
       "      <td>2475.280</td>\n",
       "    </tr>\n",
       "  </tbody>\n",
       "</table>\n",
       "</div>"
      ],
      "text/plain": [
       "        churn_probability  tenure  satisfaction_score  data_usage  age  billing_category  billing_weight  monthly_charge  roaming_usage  financial_risk_score\n",
       "959084              0.914  59.000               2.060       5.720   50                 0           1.805          92.030         21.780               368.120\n",
       "442420              0.914  26.000               1.030       3.670   55                 1           7.718         432.220         48.330              1296.660\n",
       "979832              0.911   6.000               2.490       2.880   33                 1          10.565         359.210         53.770              1436.840\n",
       "945610              0.906   3.000               1.390      13.850   33                 2          23.399         795.550         20.050              3182.200\n",
       "84942               0.905  13.000               2.090     169.970   34                 1           9.911         346.880         20.980              1387.520\n",
       "718346              0.904  70.000               2.530       7.760   34                 1          10.722         375.270         53.310              1501.080\n",
       "486461              0.904  10.000               2.750     199.540   35                 2          24.580         884.870          4.930              2654.610\n",
       "253456              0.903 136.000               2.870      14.400   49                 2          17.416         870.810         56.850              3483.240\n",
       "119935              0.902  53.000               1.170       8.460   45                 1           7.333         337.340         51.620              1012.020\n",
       "177528              0.902   4.000               2.690     166.360   39                 2          15.471         618.820         46.020              2475.280"
      ]
     },
     "execution_count": 17,
     "metadata": {},
     "output_type": "execute_result"
    }
   ],
   "source": [
    "# Churn olasılıklarını büyükten küçüğe sıralayalım\n",
    "top_risky_customers = test_df.sort_values(by=\"churn_probability\", ascending=False).head(500)\n",
    "\n",
    "# En riskli 10 müşteriyi görüntüleyelim\n",
    "top_risky_customers[[\"churn_probability\", \"tenure\", \"satisfaction_score\",\"data_usage\", \"age\",\"billing_category\" , \"billing_weight\" , \"monthly_charge\", \"roaming_usage\",\"financial_risk_score\"]].head(10)\n",
    "\n",
    "\n"
   ]
  },
  {
   "cell_type": "code",
   "execution_count": null,
   "metadata": {},
   "outputs": [],
   "source": []
  },
  {
   "cell_type": "code",
   "execution_count": null,
   "metadata": {},
   "outputs": [],
   "source": []
  },
  {
   "cell_type": "code",
   "execution_count": null,
   "metadata": {},
   "outputs": [],
   "source": []
  },
  {
   "cell_type": "code",
   "execution_count": null,
   "metadata": {},
   "outputs": [],
   "source": []
  }
 ],
 "metadata": {
  "kernelspec": {
   "display_name": "base",
   "language": "python",
   "name": "python3"
  },
  "language_info": {
   "codemirror_mode": {
    "name": "ipython",
    "version": 3
   },
   "file_extension": ".py",
   "mimetype": "text/x-python",
   "name": "python",
   "nbconvert_exporter": "python",
   "pygments_lexer": "ipython3",
   "version": "3.11.5"
  }
 },
 "nbformat": 4,
 "nbformat_minor": 2
}
