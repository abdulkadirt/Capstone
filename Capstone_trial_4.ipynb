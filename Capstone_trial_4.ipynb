{
 "cells": [
  {
   "cell_type": "code",
   "execution_count": 1,
   "metadata": {},
   "outputs": [],
   "source": [
    "import os\n",
    "import glob\n",
    "import duckdb\n",
    "\n",
    "import numpy as np\n",
    "import pandas as pd\n",
    "import matplotlib.pyplot as plt\n",
    "import seaborn as sns\n",
    "\n",
    "import warnings\n",
    "warnings.filterwarnings('ignore')\n",
    "\n",
    "pd.set_option('display.max_columns', None)\n",
    "pd.set_option('display.max_rows', None)\n",
    "pd.set_option('display.float_format', lambda x: '%.3f' % x)\n",
    "pd.set_option('display.width', 500)\n",
    "\n",
    "from sklearn.model_selection import train_test_split"
   ]
  },
  {
   "cell_type": "code",
   "execution_count": 2,
   "metadata": {},
   "outputs": [],
   "source": [
    "df = pd.read_csv('train_set.csv')\n",
    "# df.head()"
   ]
  },
  {
   "cell_type": "code",
   "execution_count": 3,
   "metadata": {},
   "outputs": [],
   "source": [
    "# df.describe().T"
   ]
  },
  {
   "cell_type": "code",
   "execution_count": null,
   "metadata": {},
   "outputs": [],
   "source": [
    "# df.info()"
   ]
  },
  {
   "cell_type": "code",
   "execution_count": 5,
   "metadata": {},
   "outputs": [
    {
     "name": "stdout",
     "output_type": "stream",
     "text": [
      "No churn 98.66 % of the dataset\n",
      "Churn 1.34 % of the dataset\n",
      "toplam müşteri sayısı : 9000000\n"
     ]
    }
   ],
   "source": [
    "print('No churn', round(df['churn'].value_counts()[0]/len(df) * 100,2), '% of the dataset')\n",
    "print('Churn', round(df['churn'].value_counts()[1]/len(df) * 100,2), '% of the dataset')\n",
    "print('toplam müşteri sayısı :' ,df.shape[0])"
   ]
  },
  {
   "cell_type": "markdown",
   "metadata": {},
   "source": [
    "Modelle alakası olmayan istatistiksel hesaplamalar tüm df e uygulanabilir , feature eng. adımları tüm df e uygulanmalıdır\n",
    "\n",
    "Öncelikle kaç uygulama kullandığını yazıyorum : "
   ]
  },
  {
   "cell_type": "code",
   "execution_count": 6,
   "metadata": {},
   "outputs": [],
   "source": [
    "# Boş listeyi gerçekten boş hale getirelim (string olarak görünüyor)\n",
    "df[\"apps\"] = df[\"apps\"].apply(lambda x: x if x != \"[]\" else \"\")\n",
    "\n",
    "# Virgülle ayırıp kaç eleman olduğunu sayalım\n",
    "df[\"app_count\"] = df[\"apps\"].apply(lambda x: len(x.split(\",\")) if x else 0)\n",
    "\n",
    "# # Sonucu kontrol edelim\n",
    "# df[[\"apps\", \"app_count\"]].head(10)"
   ]
  },
  {
   "cell_type": "code",
   "execution_count": 7,
   "metadata": {},
   "outputs": [
    {
     "name": "stdout",
     "output_type": "stream",
     "text": [
      "                   Eksik Değer Sayısı  Eksik Yüzde (%)\n",
      "avg_call_duration             3297598           36.640\n",
      "auto_payment                  3010706           33.452\n",
      "roaming_usage                 2997775           33.309\n",
      "call_drops                    2997775           33.309\n",
      "data_usage                     449655            4.996\n",
      "monthly_charge                 225162            2.502\n",
      "tenure                          22279            0.248\n"
     ]
    }
   ],
   "source": [
    "# Eksik değer sayısını ve yüzdesini hesaplayalım\n",
    "missing_values = df.isnull().sum()\n",
    "missing_percentage = (missing_values / len(df)) * 100\n",
    "\n",
    "# Sadece eksik değeri olan sütunları gösterelim\n",
    "missing_df = pd.DataFrame({\"Eksik Değer Sayısı\": missing_values, \"Eksik Yüzde (%)\": missing_percentage})\n",
    "missing_df = missing_df[missing_df[\"Eksik Değer Sayısı\"] > 0].sort_values(by=\"Eksik Yüzde (%)\", ascending=False)\n",
    "\n",
    "# Sonucu yazdıralım\n",
    "print(missing_df)\n"
   ]
  },
  {
   "cell_type": "code",
   "execution_count": 8,
   "metadata": {},
   "outputs": [],
   "source": [
    "# import missingno as msno\n",
    "# import matplotlib.pyplot as plt\n",
    "\n",
    "# # Eksik değerlerin sütun bazında yoğunluğunu gösteren matris\n",
    "# plt.figure(figsize=(12, 6))\n",
    "# msno.matrix(df, fontsize=12)\n",
    "# plt.title(\"Eksik Değer Matrisi\", fontsize=14)\n",
    "# plt.show()"
   ]
  },
  {
   "cell_type": "markdown",
   "metadata": {},
   "source": [
    "# Handling Missing Data"
   ]
  },
  {
   "cell_type": "code",
   "execution_count": 9,
   "metadata": {},
   "outputs": [],
   "source": [
    "\n",
    "# **1️⃣ roaming_usage → Eğer eksikse, hiç kullanmamıştır (0 ile doldur)**\n",
    "df['roaming_usage'] = df['roaming_usage'].fillna(0)\n",
    "\n",
    "# **2️⃣ auto_payment → Eksikler -1 ile doldurulmalı ve int'e çevrilmeli**  ## Bilgi yok anlamında.\n",
    "df['auto_payment'] = df['auto_payment'].fillna(-1).astype(int)\n",
    "\n",
    "# **3️⃣ avg_call_duration → Eğer fatura bilgisi (monthly_charge) eksikse veya 0'sa, hiç konuşma yapmamıştır (0 ile doldur)**\n",
    "\n",
    "\n",
    "df.loc[\n",
    "    ((df['avg_call_duration'].isnull()) | (df['avg_call_duration'] == 0)) &\n",
    "    ((df['data_usage'].isnull()) | (df['data_usage'] == 0)) &\n",
    "    (df['monthly_charge'].isnull()), \n",
    "    'monthly_charge'\n",
    "] = 0\n",
    "\n",
    "df['avg_call_duration'] = df['avg_call_duration'].fillna(-1)  # Kalan eksikleri -1 yapalım\n",
    "\n",
    "# **4️⃣ call_drops → Eğer service_type \"Broadband\" ise 0 ile doldur, kalanları medyan ile doldur**\n",
    "df.loc[df['service_type'] == \"Broadband\", 'call_drops'] = 0\n",
    "df['call_drops'] = df['call_drops'].fillna(df['call_drops'].median())\n",
    "\n",
    "\n",
    "# **5️⃣ monthly_charge → Yaş (age) ve avg_top_up_count'e göre doldur (Sadece NaN olanları değiştir)**\n",
    "df['monthly_charge'] = df['monthly_charge'].where(df['monthly_charge'].notnull(),\n",
    "    df.groupby(['age', 'avg_top_up_count'])['monthly_charge'].transform('mean'))\n",
    "\n",
    "# **6️⃣ data_usage → Eksik kayıtları silebiliriz çünkü oran düşük**\n",
    "df = df.dropna(subset=['data_usage'])\n",
    "\n",
    "# **7️⃣ tenure → Yaş bazlı gruplara göre dolduralım (Sadece NaN olanları değiştir)**\n",
    "df['tenure'] = df['tenure'].where(df['tenure'].notnull(),\n",
    "    df.groupby('age')['tenure'].transform('median'))\n"
   ]
  },
  {
   "cell_type": "code",
   "execution_count": 10,
   "metadata": {},
   "outputs": [
    {
     "data": {
      "text/plain": [
       "id                        0\n",
       "age                       0\n",
       "tenure                    0\n",
       "service_type              0\n",
       "avg_call_duration         0\n",
       "data_usage                0\n",
       "roaming_usage             0\n",
       "monthly_charge            3\n",
       "overdue_payments          0\n",
       "auto_payment              0\n",
       "avg_top_up_count          0\n",
       "call_drops                0\n",
       "customer_support_calls    0\n",
       "satisfaction_score        0\n",
       "apps                      0\n",
       "churn                     0\n",
       "app_count                 0\n",
       "dtype: int64"
      ]
     },
     "execution_count": 10,
     "metadata": {},
     "output_type": "execute_result"
    }
   ],
   "source": [
    "df.isnull().sum()"
   ]
  },
  {
   "cell_type": "markdown",
   "metadata": {},
   "source": [
    "Son defa eksik değer kaldı mı diye kontrol et hala eksik değer varsa sil gitsin !"
   ]
  },
  {
   "cell_type": "code",
   "execution_count": 11,
   "metadata": {},
   "outputs": [],
   "source": [
    "df = df.dropna(subset=['monthly_charge'])"
   ]
  },
  {
   "cell_type": "markdown",
   "metadata": {},
   "source": [
    "## Features\n",
    "\n",
    "\n",
    "Müşteri ne kadar sık çağrı merkezini arıyorsa ve memnuniyeti düşükse, bu müşterinin sorun yaşama veya hizmetten memnun kalmama ihtimali artar : support_call_impact\n",
    "# Bunda aykırı değer olabilir dikkat etmek lazım !!!"
   ]
  },
  {
   "cell_type": "code",
   "execution_count": 13,
   "metadata": {},
   "outputs": [],
   "source": [
    "import pandas as pd\n",
    "\n",
    "# 1️⃣ Memnuniyet Skorunu Kategorik Hale Getirme\n",
    "df[\"satisfaction_category\"] = pd.cut(df[\"satisfaction_score\"], bins=[0, 4, 7, 10], labels=[\"Düşük\", \"Orta\", \"Yüksek\"])\n",
    "\n",
    "# 2️⃣ Destek Çağrılarının Memnuniyete Etkisi --> çağrı sayısı arttıkça ve satisfaction_score düştükçe \n",
    "df[\"support_call_impact\"] = df[\"customer_support_calls\"] / (df[\"satisfaction_score\"] + 1)\n",
    "\n",
    "# 3️⃣ Aylık Fatura Kategorisi\n",
    "df[\"billing_category\"] = pd.cut(df[\"monthly_charge\"], bins=[0, 250, 500, 1000, 2500], \n",
    "                                labels=[\"Düşük\", \"Orta\", \"Yüksek\", \"Premium\"])\n",
    "\n",
    "# 4️⃣ Memnuniyetsizlik Skoru (Yüksek Fatura, Düşük Kullanım)\n",
    "df[\"dissatisfaction_score\"] = df[\"monthly_charge\"] / (df[\"data_usage\"] + df[\"avg_call_duration\"] + 1)\n",
    "\n",
    "# 5️⃣ Finansal Risk Skoru\n",
    "df[\"financial_risk_score\"] = df[\"monthly_charge\"] * df[\"overdue_payments\"] / (df[\"avg_top_up_count\"] + 1)\n",
    "\n",
    "# 6️⃣ Yaş Segmenti\n",
    "df[\"age_group\"] = pd.cut(df[\"age\"], bins=[16, 25, 35, 50, 85], labels=[\"Genç\", \"Orta\", \"Yetişkin\", \"Yaşlı\"])\n",
    "\n",
    "# 7️⃣ Roaming Kullanım Segmenti\n",
    "df[\"roaming_usage_category\"] = pd.cut(df[\"roaming_usage\"], bins=[-1, 0, 10, 50, 1000], \n",
    "                                      labels=[\"Hiç Kullanmadı\", \"Ara Sıra\", \"Sık Kullanıcı\", \"Çok Sık Kullanıcı\"])\n",
    "\n",
    "# 8️⃣ Sadakat Skoru\n",
    "df[\"loyalty_score\"] = df[\"tenure\"] * df[\"avg_top_up_count\"] / (df[\"customer_support_calls\"] + 1)\n",
    "\n",
    "# 9️⃣ Fatura Ağırlığı\n",
    "df[\"billing_weight\"] = df[\"monthly_charge\"] / (df[\"age\"] + 1)\n"
   ]
  },
  {
   "cell_type": "markdown",
   "metadata": {},
   "source": [
    "## Encoding\n"
   ]
  },
  {
   "cell_type": "code",
   "execution_count": 14,
   "metadata": {},
   "outputs": [
    {
     "name": "stdout",
     "output_type": "stream",
     "text": [
      " \n",
      " Numeric cols : ['age', 'tenure', 'avg_call_duration', 'data_usage', 'roaming_usage', 'monthly_charge', 'avg_top_up_count', 'satisfaction_score', 'support_call_impact', 'dissatisfaction_score', 'financial_risk_score', 'loyalty_score', 'billing_weight'] \n",
      "\n",
      " \n",
      " Numeric but actually categoric cols : ['overdue_payments', 'call_drops', 'customer_support_calls', 'app_count'] \n",
      "\n",
      " \n",
      " Categorical Cols : ['id', 'service_type', 'apps', 'satisfaction_category', 'billing_category', 'age_group', 'roaming_usage_category'] \n",
      "\n",
      " \n",
      " Categorical but high cardinality cols : ['id'] \n",
      "\n"
     ]
    }
   ],
   "source": [
    "num_but_cat = [col for col in df.columns if  df[col].nunique() < 35  and df[col].dtype in [\"float64\" ,\"int64\"]]\n",
    "\n",
    "num_cols = [col for col in df.columns if df[col].dtype in [\"float64\" ,\"int64\"] and col not in num_but_cat]\n",
    "\n",
    "cat_cols = [col for col in df.columns if df[col].dtype in [\"object\" , \"category\"]]\n",
    "cat_but_car = [col for col in cat_cols if df[col].nunique() > 35]\n",
    "\n",
    "\n",
    "print(f\" \\n Numeric cols : {num_cols} \\n\")\n",
    "print(f\" \\n Numeric but actually categoric cols : {num_but_cat} \\n\")\n",
    "print(f\" \\n Categorical Cols : {cat_cols} \\n\")\n",
    "print(f\" \\n Categorical but high cardinality cols : {cat_but_car} \\n\")"
   ]
  },
  {
   "cell_type": "code",
   "execution_count": null,
   "metadata": {},
   "outputs": [],
   "source": []
  },
  {
   "cell_type": "markdown",
   "metadata": {},
   "source": [
    "# Train-Test Ayrımı\n",
    "En baştan yapıyorum sonradan karışıklık olamsın."
   ]
  },
  {
   "cell_type": "code",
   "execution_count": 15,
   "metadata": {},
   "outputs": [],
   "source": [
    "from sklearn.model_selection import train_test_split\n",
    "\n",
    "# Train/test split (stratify: churn dağılımını korumak için)\n",
    "train_df, test_df = train_test_split(df, test_size=0.2, stratify=df[\"churn\"], random_state=42)"
   ]
  },
  {
   "cell_type": "code",
   "execution_count": null,
   "metadata": {},
   "outputs": [],
   "source": []
  },
  {
   "cell_type": "markdown",
   "metadata": {},
   "source": [
    "## UnderSampling"
   ]
  },
  {
   "cell_type": "code",
   "execution_count": 16,
   "metadata": {},
   "outputs": [],
   "source": [
    "def manual_undersampling(X, y):\n",
    "    # 1️⃣ DataFrame'e çevir\n",
    "    df = X.copy()\n",
    "    df[\"churn\"] = y  # Hedef değişkeni tekrar ekleyelim\n",
    "\n",
    "    # 2️⃣ Churn etmeyen (0) ve eden (1) müşterileri ayıralım\n",
    "    churn_0 = df[df[\"churn\"] == 0]  # Churn etmeyenler\n",
    "    churn_1 = df[df[\"churn\"] == 1]  # Churn edenler\n",
    "\n",
    "    # 3️⃣ Minimum sınıfın (churn=1) boyutunu öğrenelim\n",
    "    min_class_size = len(churn_1)\n",
    "\n",
    "    # 4️⃣ Churn etmeyenlerden rastgele örnek alalım (churn edenlerle eşit sayıda)\n",
    "    churn_0_sample = churn_0.sample(n=min_class_size, random_state=42)\n",
    "\n",
    "    # 5️⃣ İki grubu birleştirelim\n",
    "    balanced_df = pd.concat([churn_0_sample, churn_1], axis=0)\n",
    "\n",
    "    # 6️⃣ Karıştıralım\n",
    "    balanced_df = balanced_df.sample(frac=1, random_state=42).reset_index(drop=True)\n",
    "\n",
    "    # 7️⃣ X ve y olarak ayıralım\n",
    "    X_balanced = balanced_df.drop(columns=[\"churn\"])\n",
    "    y_balanced = balanced_df[\"churn\"]\n",
    "\n",
    "    return X_balanced, y_balanced\n"
   ]
  },
  {
   "cell_type": "code",
   "execution_count": 17,
   "metadata": {},
   "outputs": [
    {
     "name": "stdout",
     "output_type": "stream",
     "text": [
      "Orijinal veri setindeki sınıf dağılımı:\n",
      "churn\n",
      "False    6748865\n",
      "True       91408\n",
      "Name: count, dtype: int64\n",
      "\n",
      "Undersampling sonrası veri setindeki sınıf dağılımı:\n",
      "churn\n",
      "True     91408\n",
      "False    91408\n",
      "Name: count, dtype: int64\n"
     ]
    }
   ],
   "source": [
    "X = df.drop(columns=[\"churn\"])\n",
    "y = df[\"churn\"]\n",
    "\n",
    "X_train, X_test, y_train, y_test = train_test_split(X, y, test_size=0.2, stratify=y, random_state=42)\n",
    "\n",
    "# 2️⃣ Manuel undersampling uygulayalım\n",
    "X_train_resampled, y_train_resampled = manual_undersampling(X_train, y_train)\n",
    "\n",
    "# 3️⃣ Sonucu kontrol edelim\n",
    "print(\"Orijinal veri setindeki sınıf dağılımı:\")\n",
    "print(y_train.value_counts())\n",
    "\n",
    "print(\"\\nUndersampling sonrası veri setindeki sınıf dağılımı:\")\n",
    "print(y_train_resampled.value_counts())"
   ]
  },
  {
   "cell_type": "markdown",
   "metadata": {},
   "source": [
    "## Encoding"
   ]
  },
  {
   "cell_type": "code",
   "execution_count": 18,
   "metadata": {},
   "outputs": [],
   "source": [
    "# 1️⃣ Manuel Label Encoding - Önce mapping tanımlayalım\n",
    "service_type_map = {\"Prepaid\": 0, \"Broadband\": 1, \"Postpaid\": 2}\n",
    "billing_category_map = {\"Düşük\": 0, \"Orta\": 1, \"Yüksek\": 2, \"Premium\": 3}\n",
    "age_group_map = {\"Yaşlı\": 0, \"Orta\": 1, \"Yetişkin\": 2, \"Genç\": 3}\n",
    "roaming_usage_map = {\"Hiç Kullanmadı\": 0, \"Ara Sıra\": 1, \"Sık Kullanıcı\": 2, \"Çok Sık Kullanıcı\": 3}\n",
    "\n",
    "# 2️⃣ Mapping uygulayalım\n",
    "X_train_resampled[\"service_type\"] = X_train_resampled[\"service_type\"].map(service_type_map)\n",
    "X_test[\"service_type\"] = X_test[\"service_type\"].map(service_type_map)\n",
    "\n",
    "X_train_resampled[\"billing_category\"] = X_train_resampled[\"billing_category\"].map(billing_category_map)\n",
    "X_test[\"billing_category\"] = X_test[\"billing_category\"].map(billing_category_map)\n",
    "\n",
    "X_train_resampled[\"age_group\"] = X_train_resampled[\"age_group\"].map(age_group_map)\n",
    "X_test[\"age_group\"] = X_test[\"age_group\"].map(age_group_map)\n",
    "\n",
    "X_train_resampled[\"roaming_usage_category\"] = X_train_resampled[\"roaming_usage_category\"].map(roaming_usage_map)\n",
    "X_test[\"roaming_usage_category\"] = X_test[\"roaming_usage_category\"].map(roaming_usage_map)\n",
    "\n",
    "# 3️⃣ Satisfaction Category için Label Encoding\n",
    "from sklearn.preprocessing import LabelEncoder\n",
    "\n",
    "le = LabelEncoder()\n",
    "X_train_resampled[\"satisfaction_category\"] = le.fit_transform(X_train_resampled[\"satisfaction_category\"])\n",
    "X_test[\"satisfaction_category\"] = le.transform(X_test[\"satisfaction_category\"])"
   ]
  },
  {
   "cell_type": "code",
   "execution_count": 19,
   "metadata": {},
   "outputs": [
    {
     "name": "stdout",
     "output_type": "stream",
     "text": [
      "service_type              0\n",
      "billing_category          0\n",
      "age_group                 0\n",
      "roaming_usage_category    0\n",
      "dtype: int64\n",
      "service_type              0\n",
      "billing_category          0\n",
      "age_group                 0\n",
      "roaming_usage_category    0\n",
      "dtype: int64\n"
     ]
    }
   ],
   "source": [
    "print(X_train_resampled[[\"service_type\", \"billing_category\", \"age_group\", \"roaming_usage_category\"]].isnull().sum())\n",
    "print(X_test[[\"service_type\", \"billing_category\", \"age_group\", \"roaming_usage_category\"]].isnull().sum())"
   ]
  },
  {
   "cell_type": "code",
   "execution_count": 20,
   "metadata": {},
   "outputs": [],
   "source": [
    "X_train_resampled = X_train_resampled.drop(columns=[\"id\", \"apps\"])\n",
    "X_test = X_test.drop(columns=[\"id\", \"apps\"])"
   ]
  },
  {
   "cell_type": "code",
   "execution_count": 22,
   "metadata": {},
   "outputs": [
    {
     "name": "stdout",
     "output_type": "stream",
     "text": [
      "   age  tenure  service_type  avg_call_duration  data_usage  roaming_usage  monthly_charge  overdue_payments  auto_payment  avg_top_up_count  call_drops  customer_support_calls  satisfaction_score  app_count  satisfaction_category  support_call_impact billing_category  dissatisfaction_score  financial_risk_score age_group roaming_usage_category  loyalty_score  billing_weight\n",
      "0   55 320.000             2             23.050      11.100         18.620         829.390                 5             0                 0       2.000                      12               7.840          0                      2                1.357                2                 23.596              4146.950         0                      2          0.000          14.811\n",
      "1   32 113.000             2             31.760     170.070         16.570         590.130                 4             1                 0       9.000                      18               4.040          1                      1                3.571                2                  2.909              2360.520         1                      2          0.000          17.883\n",
      "2   21 146.000             0            112.130       2.540         21.820        2253.310                 0            -1                 9      12.000                      11               4.830          0                      1                1.887                3                 19.481                 0.000         3                      2        109.500         102.423\n",
      "3   35 288.000             2             15.890      37.960         49.480         924.820                 5             1                 0      10.000                      18               7.300          1                      2                2.169                2                 16.861              4624.100         1                      2          0.000          25.689\n",
      "4   29 117.000             2             48.400      39.280         39.660         862.130                 3             0                 0      20.000                      11               9.060          0                      2                1.093                2                  9.722              2586.390         1                      2          0.000          28.738\n",
      "age                          int64\n",
      "tenure                     float64\n",
      "service_type                 int64\n",
      "avg_call_duration          float64\n",
      "data_usage                 float64\n",
      "roaming_usage              float64\n",
      "monthly_charge             float64\n",
      "overdue_payments             int64\n",
      "auto_payment                 int32\n",
      "avg_top_up_count             int64\n",
      "call_drops                 float64\n",
      "customer_support_calls       int64\n",
      "satisfaction_score         float64\n",
      "app_count                    int64\n",
      "satisfaction_category        int32\n",
      "support_call_impact        float64\n",
      "billing_category          category\n",
      "dissatisfaction_score      float64\n",
      "financial_risk_score       float64\n",
      "age_group                 category\n",
      "roaming_usage_category    category\n",
      "loyalty_score              float64\n",
      "billing_weight             float64\n",
      "dtype: object\n"
     ]
    }
   ],
   "source": [
    "print(X_train_resampled.head())\n",
    "print(X_train_resampled.dtypes)"
   ]
  },
  {
   "cell_type": "code",
   "execution_count": 24,
   "metadata": {},
   "outputs": [
    {
     "name": "stdout",
     "output_type": "stream",
     "text": [
      "age                         int64\n",
      "tenure                    float64\n",
      "service_type                int64\n",
      "avg_call_duration         float64\n",
      "data_usage                float64\n",
      "roaming_usage             float64\n",
      "monthly_charge            float64\n",
      "overdue_payments            int64\n",
      "auto_payment                int32\n",
      "avg_top_up_count            int64\n",
      "call_drops                float64\n",
      "customer_support_calls      int64\n",
      "satisfaction_score        float64\n",
      "app_count                   int64\n",
      "satisfaction_category       int32\n",
      "support_call_impact       float64\n",
      "billing_category            int32\n",
      "dissatisfaction_score     float64\n",
      "financial_risk_score      float64\n",
      "age_group                   int32\n",
      "roaming_usage_category      int32\n",
      "loyalty_score             float64\n",
      "billing_weight            float64\n",
      "dtype: object\n"
     ]
    }
   ],
   "source": [
    "# Hâlâ kategori olarak kalan sütunları belirleyelim\n",
    "category_cols = [\"billing_category\", \"roaming_usage_category\", \"age_group\"]\n",
    "\n",
    "# Bu sütunları integer formata çevirelim\n",
    "for col in category_cols:\n",
    "    X_train_resampled[col] = X_train_resampled[col].astype(int)\n",
    "    X_test[col] = X_test[col].astype(int)\n",
    "\n",
    "# Sonuçları kontrol edelim\n",
    "print(X_train_resampled.dtypes)"
   ]
  },
  {
   "cell_type": "markdown",
   "metadata": {},
   "source": [
    "# Model Aşaması \n",
    "\n",
    "Scaling atladım çünkü direkt LightGBM veya XGBoost kullanacağım."
   ]
  },
  {
   "cell_type": "code",
   "execution_count": 25,
   "metadata": {},
   "outputs": [
    {
     "name": "stdout",
     "output_type": "stream",
     "text": [
      "Train Set Şekli: (182816, 23)\n",
      "Test Set Şekli: (1710069, 23)\n",
      "\n",
      "Veri Türleri:\n",
      "float64    12\n",
      "int64       6\n",
      "int32       5\n",
      "Name: count, dtype: int64\n",
      "\n",
      "İlk Satır:\n",
      "   age  tenure  service_type  avg_call_duration  data_usage  roaming_usage  monthly_charge  overdue_payments  auto_payment  avg_top_up_count  call_drops  customer_support_calls  satisfaction_score  app_count  satisfaction_category  support_call_impact  billing_category  dissatisfaction_score  financial_risk_score  age_group  roaming_usage_category  loyalty_score  billing_weight\n",
      "0   55 320.000             2             23.050      11.100         18.620         829.390                 5             0                 0       2.000                      12               7.840          0                      2                1.357                 2                 23.596              4146.950          0                       2          0.000          14.811\n",
      "1   32 113.000             2             31.760     170.070         16.570         590.130                 4             1                 0       9.000                      18               4.040          1                      1                3.571                 2                  2.909              2360.520          1                       2          0.000          17.883\n",
      "2   21 146.000             0            112.130       2.540         21.820        2253.310                 0            -1                 9      12.000                      11               4.830          0                      1                1.887                 3                 19.481                 0.000          3                       2        109.500         102.423\n",
      "3   35 288.000             2             15.890      37.960         49.480         924.820                 5             1                 0      10.000                      18               7.300          1                      2                2.169                 2                 16.861              4624.100          1                       2          0.000          25.689\n",
      "4   29 117.000             2             48.400      39.280         39.660         862.130                 3             0                 0      20.000                      11               9.060          0                      2                1.093                 2                  9.722              2586.390          1                       2          0.000          28.738\n"
     ]
    }
   ],
   "source": [
    "print(\"Train Set Şekli:\", X_train_resampled.shape)\n",
    "print(\"Test Set Şekli:\", X_test.shape)\n",
    "\n",
    "print(\"\\nVeri Türleri:\")\n",
    "print(X_train_resampled.dtypes.value_counts())  # Tüm sütunlar float64 veya int64 olmalı\n",
    "\n",
    "print(\"\\nİlk Satır:\")\n",
    "print(X_train_resampled.head())\n"
   ]
  },
  {
   "cell_type": "markdown",
   "metadata": {},
   "source": [
    "### XGBoost"
   ]
  },
  {
   "cell_type": "code",
   "execution_count": 26,
   "metadata": {},
   "outputs": [
    {
     "name": "stdout",
     "output_type": "stream",
     "text": [
      "\n",
      "Classification Report:\n",
      "              precision    recall  f1-score   support\n",
      "\n",
      "       False       1.00      0.66      0.79   1687217\n",
      "        True       0.03      0.82      0.06     22852\n",
      "\n",
      "    accuracy                           0.66   1710069\n",
      "   macro avg       0.51      0.74      0.43   1710069\n",
      "weighted avg       0.98      0.66      0.78   1710069\n",
      "\n",
      "\n",
      "ROC AUC Score: 0.796865952455439\n",
      "Accuracy Score: 0.6612481718573929\n"
     ]
    }
   ],
   "source": [
    "from xgboost import XGBClassifier\n",
    "from sklearn.metrics import classification_report, accuracy_score, roc_auc_score\n",
    "\n",
    "# 1️⃣ XGBoost modelini oluştur\n",
    "xgb_model = XGBClassifier(\n",
    "    objective=\"binary:logistic\",  \n",
    "    eval_metric=\"auc\",  # AUC metriğini optimize edelim\n",
    "    use_label_encoder=False,  # Uyarı mesajlarını önlemek için\n",
    "    random_state=42\n",
    ")\n",
    "\n",
    "# 2️⃣ Modeli eğit\n",
    "xgb_model.fit(X_train_resampled, y_train_resampled)\n",
    "\n",
    "# 3️⃣ Test setinde tahmin yap\n",
    "y_pred = xgb_model.predict(X_test)\n",
    "y_proba = xgb_model.predict_proba(X_test)[:, 1]\n",
    "\n",
    "# 4️⃣ Modelin performansını değerlendirme\n",
    "print(\"\\nClassification Report:\")\n",
    "print(classification_report(y_test, y_pred))\n",
    "\n",
    "print(\"\\nROC AUC Score:\", roc_auc_score(y_test, y_proba))\n",
    "print(\"Accuracy Score:\", accuracy_score(y_test, y_pred))\n",
    "\n"
   ]
  },
  {
   "cell_type": "markdown",
   "metadata": {},
   "source": [
    "# Özellik Önem Derecesi"
   ]
  },
  {
   "cell_type": "code",
   "execution_count": 27,
   "metadata": {},
   "outputs": [
    {
     "data": {
      "image/png": "[encoded data removed]",
      "text/plain": [
       "<Figure size 1200x600 with 1 Axes>"
      ]
     },
     "metadata": {},
     "output_type": "display_data"
    },
    {
     "name": "stdout",
     "output_type": "stream",
     "text": [
      "                   Feature  Importance\n",
      "20  roaming_usage_category       0.804\n",
      "2             service_type       0.066\n",
      "7         overdue_payments       0.036\n",
      "16        billing_category       0.031\n",
      "0                      age       0.022\n",
      "8             auto_payment       0.012\n",
      "13               app_count       0.010\n",
      "21           loyalty_score       0.003\n",
      "12      satisfaction_score       0.002\n",
      "1                   tenure       0.001\n"
     ]
    }
   ],
   "source": [
    "import matplotlib.pyplot as plt\n",
    "import pandas as pd\n",
    "\n",
    "# Feature Importance'ı al\n",
    "feature_importances = xgb_model.feature_importances_\n",
    "feature_names = X_train_resampled.columns\n",
    "\n",
    "# DataFrame oluştur\n",
    "importance_df = pd.DataFrame({\"Feature\": feature_names, \"Importance\": feature_importances})\n",
    "importance_df = importance_df.sort_values(by=\"Importance\", ascending=False)\n",
    "\n",
    "# Görselleştirme\n",
    "plt.figure(figsize=(12, 6))\n",
    "plt.barh(importance_df[\"Feature\"], importance_df[\"Importance\"], color=\"dodgerblue\")\n",
    "plt.xlabel(\"Önem Skoru\")\n",
    "plt.ylabel(\"Feature\")\n",
    "plt.title(\"XGBoost Feature Importance\")\n",
    "plt.gca().invert_yaxis()\n",
    "plt.show()\n",
    "\n",
    "# İlk 10 değişkeni yazdır\n",
    "print(importance_df.head(10))\n"
   ]
  },
  {
   "cell_type": "markdown",
   "metadata": {},
   "source": [
    "# LightGBM"
   ]
  },
  {
   "cell_type": "code",
   "execution_count": 28,
   "metadata": {},
   "outputs": [
    {
     "name": "stdout",
     "output_type": "stream",
     "text": [
      "[LightGBM] [Info] Number of positive: 91408, number of negative: 91408\n",
      "[LightGBM] [Info] Auto-choosing row-wise multi-threading, the overhead of testing was 0.003238 seconds.\n",
      "You can set `force_row_wise=true` to remove the overhead.\n",
      "And if memory is not enough, you can set `force_col_wise=true`.\n",
      "[LightGBM] [Info] Total Bins 3039\n",
      "[LightGBM] [Info] Number of data points in the train set: 182816, number of used features: 23\n",
      "[LightGBM] [Info] [binary:BoostFromScore]: pavg=0.500000 -> initscore=0.000000\n",
      "\n",
      "Classification Report (LightGBM):\n",
      "              precision    recall  f1-score   support\n",
      "\n",
      "       False       1.00      0.67      0.80   1687217\n",
      "        True       0.03      0.82      0.06     22852\n",
      "\n",
      "    accuracy                           0.67   1710069\n",
      "   macro avg       0.51      0.74      0.43   1710069\n",
      "weighted avg       0.98      0.67      0.79   1710069\n",
      "\n",
      "\n",
      "ROC AUC Score (LightGBM): 0.7997652764861379\n",
      "Accuracy Score (LightGBM): 0.667987665994764\n"
     ]
    }
   ],
   "source": [
    "from lightgbm import LGBMClassifier\n",
    "from sklearn.metrics import classification_report, roc_auc_score, accuracy_score\n",
    "\n",
    "# LightGBM Modelini oluştur\n",
    "lgbm_model = LGBMClassifier(\n",
    "    objective=\"binary\",\n",
    "    metric=\"auc\",\n",
    "    random_state=42\n",
    ")\n",
    "\n",
    "# Modeli eğit\n",
    "lgbm_model.fit(X_train_resampled, y_train_resampled)\n",
    "\n",
    "# Test setinde tahmin yap\n",
    "y_pred_lgbm = lgbm_model.predict(X_test)\n",
    "y_proba_lgbm = lgbm_model.predict_proba(X_test)[:, 1]\n",
    "\n",
    "# Model performansını değerlendirme\n",
    "print(\"\\nClassification Report (LightGBM):\")\n",
    "print(classification_report(y_test, y_pred_lgbm))\n",
    "\n",
    "print(\"\\nROC AUC Score (LightGBM):\", roc_auc_score(y_test, y_proba_lgbm))\n",
    "print(\"Accuracy Score (LightGBM):\", accuracy_score(y_test, y_pred_lgbm))\n"
   ]
  },
  {
   "cell_type": "code",
   "execution_count": null,
   "metadata": {},
   "outputs": [
    {
     "data": {
      "image/png": "[encoded data removed]",
      "text/plain": [
       "<Figure size 1200x600 with 1 Axes>"
      ]
     },
     "metadata": {},
     "output_type": "display_data"
    },
    {
     "name": "stdout",
     "output_type": "stream",
     "text": [
      "                  Feature  Importance\n",
      "12     satisfaction_score         341\n",
      "1                  tenure         334\n",
      "4              data_usage         212\n",
      "13              app_count         203\n",
      "5           roaming_usage         200\n",
      "17  dissatisfaction_score         181\n",
      "15    support_call_impact         160\n",
      "6          monthly_charge         154\n",
      "21          loyalty_score         145\n",
      "10             call_drops         138\n"
     ]
    }
   ],
   "source": [
    "# Feature Importance'ı al\n",
    "feature_importances = lgbm_model.feature_importances_\n",
    "feature_names = X_train_resampled.columns\n",
    "\n",
    "# DataFrame oluştur\n",
    "importance_df = pd.DataFrame({\"Feature\": feature_names, \"Importance\": feature_importances})\n",
    "importance_df = importance_df.sort_values(by=\"Importance\", ascending=False)\n",
    "\n",
    "# Görselleştirme\n",
    "plt.figure(figsize=(12, 6))\n",
    "plt.barh(importance_df[\"Feature\"], importance_df[\"Importance\"], color=\"dodgerblue\")\n",
    "plt.xlabel(\"Önem Skoru\")\n",
    "plt.ylabel(\"Feature\")\n",
    "plt.title(\"LightGBM Feature Importance\")\n",
    "plt.gca().invert_yaxis()\n",
    "plt.show()\n",
    "\n",
    "# İlk 10 değişkeni yazdır\n",
    "print(importance_df.head(10))"
   ]
  },
  {
   "cell_type": "code",
   "execution_count": 31,
   "metadata": {},
   "outputs": [
    {
     "name": "stderr",
     "output_type": "stream",
     "text": [
      "[I 2025-02-08 03:15:33,963] A new study created in memory with name: no-name-d6968683-69f6-4099-8e42-bfe608dc801e\n",
      "[I 2025-02-08 03:15:38,470] Trial 9 finished with value: 0.7974552205539316 and parameters: {'n_estimators': 100, 'max_depth': 3, 'learning_rate': 0.06164535642338162, 'num_leaves': 51, 'min_child_samples': 34, 'subsample': 0.7382077742960149, 'colsample_bytree': 0.7082228804167245, 'reg_lambda': 1.8822531168444203, 'reg_alpha': 0.0015201120967626262}. Best is trial 9 with value: 0.7974552205539316.\n",
      "[I 2025-02-08 03:15:40,691] Trial 8 finished with value: 0.7994323043337489 and parameters: {'n_estimators': 100, 'max_depth': 4, 'learning_rate': 0.08520788090010041, 'num_leaves': 56, 'min_child_samples': 33, 'subsample': 0.7181255544887879, 'colsample_bytree': 0.8937396083010467, 'reg_lambda': 4.958487952767012, 'reg_alpha': 0.04552413207704035}. Best is trial 8 with value: 0.7994323043337489.\n",
      "[I 2025-02-08 03:15:46,789] Trial 7 finished with value: 0.799433075673665 and parameters: {'n_estimators': 350, 'max_depth': 3, 'learning_rate': 0.18611342936726225, 'num_leaves': 37, 'min_child_samples': 12, 'subsample': 0.6305323024156376, 'colsample_bytree': 0.6944057004742447, 'reg_lambda': 0.0061130749381659326, 'reg_alpha': 0.05631078160056626}. Best is trial 7 with value: 0.799433075673665.\n",
      "[I 2025-02-08 03:15:46,813] Trial 4 finished with value: 0.7998275997528081 and parameters: {'n_estimators': 350, 'max_depth': 3, 'learning_rate': 0.10283284548181117, 'num_leaves': 37, 'min_child_samples': 24, 'subsample': 0.7194442510234201, 'colsample_bytree': 0.9743833591679787, 'reg_lambda': 0.005143930840428038, 'reg_alpha': 3.866931211277577}. Best is trial 4 with value: 0.7998275997528081.\n",
      "[I 2025-02-08 03:15:50,225] Trial 6 finished with value: 0.7996290250218614 and parameters: {'n_estimators': 450, 'max_depth': 3, 'learning_rate': 0.1613806863503473, 'num_leaves': 21, 'min_child_samples': 22, 'subsample': 0.947710538698448, 'colsample_bytree': 0.9582273848006297, 'reg_lambda': 0.005036033587918839, 'reg_alpha': 0.22459106797724906}. Best is trial 4 with value: 0.7998275997528081.\n",
      "[I 2025-02-08 03:15:52,468] Trial 0 finished with value: 0.7998485886147904 and parameters: {'n_estimators': 200, 'max_depth': 6, 'learning_rate': 0.05550096331417624, 'num_leaves': 24, 'min_child_samples': 31, 'subsample': 0.7207808443187571, 'colsample_bytree': 0.9911604980859592, 'reg_lambda': 0.05182125142503852, 'reg_alpha': 0.8348841053272976}. Best is trial 0 with value: 0.7998485886147904.\n",
      "[I 2025-02-08 03:15:55,641] Trial 1 finished with value: 0.8002310673678478 and parameters: {'n_estimators': 400, 'max_depth': 4, 'learning_rate': 0.06158936904738249, 'num_leaves': 21, 'min_child_samples': 42, 'subsample': 0.78768477057274, 'colsample_bytree': 0.7660539515108424, 'reg_lambda': 0.0034397469588336735, 'reg_alpha': 3.696667377877249}. Best is trial 1 with value: 0.8002310673678478.\n",
      "[I 2025-02-08 03:16:00,482] Trial 2 finished with value: 0.7987322275763185 and parameters: {'n_estimators': 400, 'max_depth': 5, 'learning_rate': 0.12078840427601127, 'num_leaves': 59, 'min_child_samples': 35, 'subsample': 0.6611193322085215, 'colsample_bytree': 0.8518517521358776, 'reg_lambda': 0.17431431245794834, 'reg_alpha': 3.3332380498890917}. Best is trial 1 with value: 0.8002310673678478.\n",
      "[I 2025-02-08 03:16:07,304] Trial 5 finished with value: 0.7958857838117526 and parameters: {'n_estimators': 500, 'max_depth': 8, 'learning_rate': 0.17502601463042175, 'num_leaves': 32, 'min_child_samples': 18, 'subsample': 0.8780316888514677, 'colsample_bytree': 0.708838112799579, 'reg_lambda': 0.011388008591191252, 'reg_alpha': 0.048046804577536045}. Best is trial 1 with value: 0.8002310673678478.\n",
      "[I 2025-02-08 03:16:08,051] Trial 3 finished with value: 0.7970043015155922 and parameters: {'n_estimators': 500, 'max_depth': 5, 'learning_rate': 0.1488426194661483, 'num_leaves': 67, 'min_child_samples': 10, 'subsample': 0.9964812190017782, 'colsample_bytree': 0.6565056582399054, 'reg_lambda': 0.003516536428262892, 'reg_alpha': 1.4527254637909506}. Best is trial 1 with value: 0.8002310673678478.\n"
     ]
    },
    {
     "name": "stdout",
     "output_type": "stream",
     "text": [
      "\n",
      "En İyi Parametreler (Hızlandırılmış LightGBM Optuna):\n",
      "{'n_estimators': 400, 'max_depth': 4, 'learning_rate': 0.06158936904738249, 'num_leaves': 21, 'min_child_samples': 42, 'subsample': 0.78768477057274, 'colsample_bytree': 0.7660539515108424, 'reg_lambda': 0.0034397469588336735, 'reg_alpha': 3.696667377877249}\n",
      "[LightGBM] [Info] Number of positive: 91408, number of negative: 91408\n",
      "[LightGBM] [Info] Auto-choosing col-wise multi-threading, the overhead of testing was 0.009162 seconds.\n",
      "You can set `force_col_wise=true` to remove the overhead.\n",
      "[LightGBM] [Info] Total Bins 3039\n",
      "[LightGBM] [Info] Number of data points in the train set: 182816, number of used features: 23\n",
      "[LightGBM] [Info] [binary:BoostFromScore]: pavg=0.500000 -> initscore=0.000000\n",
      "[LightGBM] [Warning] No further splits with positive gain, best gain: -inf\n",
      "[LightGBM] [Warning] No further splits with positive gain, best gain: -inf\n",
      "[LightGBM] [Warning] No further splits with positive gain, best gain: -inf\n",
      "[LightGBM] [Warning] No further splits with positive gain, best gain: -inf\n",
      "[LightGBM] [Warning] No further splits with positive gain, best gain: -inf\n",
      "[LightGBM] [Warning] No further splits with positive gain, best gain: -inf\n",
      "[LightGBM] [Warning] No further splits with positive gain, best gain: -inf\n",
      "[LightGBM] [Warning] No further splits with positive gain, best gain: -inf\n",
      "[LightGBM] [Warning] No further splits with positive gain, best gain: -inf\n",
      "[LightGBM] [Warning] No further splits with positive gain, best gain: -inf\n",
      "[LightGBM] [Warning] No further splits with positive gain, best gain: -inf\n",
      "[LightGBM] [Warning] No further splits with positive gain, best gain: -inf\n",
      "[LightGBM] [Warning] No further splits with positive gain, best gain: -inf\n",
      "[LightGBM] [Warning] No further splits with positive gain, best gain: -inf\n",
      "[LightGBM] [Warning] No further splits with positive gain, best gain: -inf\n",
      "[LightGBM] [Warning] No further splits with positive gain, best gain: -inf\n",
      "[LightGBM] [Warning] No further splits with positive gain, best gain: -inf\n",
      "[LightGBM] [Warning] No further splits with positive gain, best gain: -inf\n",
      "[LightGBM] [Warning] No further splits with positive gain, best gain: -inf\n",
      "[LightGBM] [Warning] No further splits with positive gain, best gain: -inf\n",
      "[LightGBM] [Warning] No further splits with positive gain, best gain: -inf\n",
      "[LightGBM] [Warning] No further splits with positive gain, best gain: -inf\n",
      "[LightGBM] [Warning] No further splits with positive gain, best gain: -inf\n",
      "[LightGBM] [Warning] No further splits with positive gain, best gain: -inf\n",
      "[LightGBM] [Warning] No further splits with positive gain, best gain: -inf\n",
      "[LightGBM] [Warning] No further splits with positive gain, best gain: -inf\n",
      "[LightGBM] [Warning] No further splits with positive gain, best gain: -inf\n",
      "[LightGBM] [Warning] No further splits with positive gain, best gain: -inf\n",
      "[LightGBM] [Warning] No further splits with positive gain, best gain: -inf\n",
      "[LightGBM] [Warning] No further splits with positive gain, best gain: -inf\n",
      "[LightGBM] [Warning] No further splits with positive gain, best gain: -inf\n",
      "[LightGBM] [Warning] No further splits with positive gain, best gain: -inf\n",
      "[LightGBM] [Warning] No further splits with positive gain, best gain: -inf\n",
      "[LightGBM] [Warning] No further splits with positive gain, best gain: -inf\n",
      "[LightGBM] [Warning] No further splits with positive gain, best gain: -inf\n",
      "[LightGBM] [Warning] No further splits with positive gain, best gain: -inf\n",
      "[LightGBM] [Warning] No further splits with positive gain, best gain: -inf\n",
      "[LightGBM] [Warning] No further splits with positive gain, best gain: -inf\n",
      "[LightGBM] [Warning] No further splits with positive gain, best gain: -inf\n",
      "[LightGBM] [Warning] No further splits with positive gain, best gain: -inf\n",
      "[LightGBM] [Warning] No further splits with positive gain, best gain: -inf\n",
      "[LightGBM] [Warning] No further splits with positive gain, best gain: -inf\n",
      "[LightGBM] [Warning] No further splits with positive gain, best gain: -inf\n",
      "[LightGBM] [Warning] No further splits with positive gain, best gain: -inf\n",
      "[LightGBM] [Warning] No further splits with positive gain, best gain: -inf\n",
      "[LightGBM] [Warning] No further splits with positive gain, best gain: -inf\n",
      "[LightGBM] [Warning] No further splits with positive gain, best gain: -inf\n",
      "[LightGBM] [Warning] No further splits with positive gain, best gain: -inf\n",
      "[LightGBM] [Warning] No further splits with positive gain, best gain: -inf\n",
      "[LightGBM] [Warning] No further splits with positive gain, best gain: -inf\n",
      "[LightGBM] [Warning] No further splits with positive gain, best gain: -inf\n",
      "[LightGBM] [Warning] No further splits with positive gain, best gain: -inf\n",
      "[LightGBM] [Warning] No further splits with positive gain, best gain: -inf\n",
      "[LightGBM] [Warning] No further splits with positive gain, best gain: -inf\n",
      "[LightGBM] [Warning] No further splits with positive gain, best gain: -inf\n",
      "[LightGBM] [Warning] No further splits with positive gain, best gain: -inf\n",
      "[LightGBM] [Warning] No further splits with positive gain, best gain: -inf\n",
      "[LightGBM] [Warning] No further splits with positive gain, best gain: -inf\n",
      "[LightGBM] [Warning] No further splits with positive gain, best gain: -inf\n",
      "[LightGBM] [Warning] No further splits with positive gain, best gain: -inf\n",
      "[LightGBM] [Warning] No further splits with positive gain, best gain: -inf\n",
      "[LightGBM] [Warning] No further splits with positive gain, best gain: -inf\n",
      "[LightGBM] [Warning] No further splits with positive gain, best gain: -inf\n",
      "[LightGBM] [Warning] No further splits with positive gain, best gain: -inf\n",
      "[LightGBM] [Warning] No further splits with positive gain, best gain: -inf\n",
      "[LightGBM] [Warning] No further splits with positive gain, best gain: -inf\n",
      "[LightGBM] [Warning] No further splits with positive gain, best gain: -inf\n",
      "[LightGBM] [Warning] No further splits with positive gain, best gain: -inf\n",
      "[LightGBM] [Warning] No further splits with positive gain, best gain: -inf\n",
      "[LightGBM] [Warning] No further splits with positive gain, best gain: -inf\n",
      "[LightGBM] [Warning] No further splits with positive gain, best gain: -inf\n",
      "[LightGBM] [Warning] No further splits with positive gain, best gain: -inf\n",
      "[LightGBM] [Warning] No further splits with positive gain, best gain: -inf\n",
      "[LightGBM] [Warning] No further splits with positive gain, best gain: -inf\n",
      "[LightGBM] [Warning] No further splits with positive gain, best gain: -inf\n",
      "[LightGBM] [Warning] No further splits with positive gain, best gain: -inf\n",
      "[LightGBM] [Warning] No further splits with positive gain, best gain: -inf\n",
      "[LightGBM] [Warning] No further splits with positive gain, best gain: -inf\n",
      "[LightGBM] [Warning] No further splits with positive gain, best gain: -inf\n",
      "[LightGBM] [Warning] No further splits with positive gain, best gain: -inf\n",
      "[LightGBM] [Warning] No further splits with positive gain, best gain: -inf\n",
      "[LightGBM] [Warning] No further splits with positive gain, best gain: -inf\n",
      "[LightGBM] [Warning] No further splits with positive gain, best gain: -inf\n",
      "[LightGBM] [Warning] No further splits with positive gain, best gain: -inf\n",
      "[LightGBM] [Warning] No further splits with positive gain, best gain: -inf\n",
      "[LightGBM] [Warning] No further splits with positive gain, best gain: -inf\n",
      "\n",
      "Optimized LightGBM Classification Report:\n",
      "              precision    recall  f1-score   support\n",
      "\n",
      "       False       1.00      0.67      0.80   1687217\n",
      "        True       0.03      0.82      0.06     22852\n",
      "\n",
      "    accuracy                           0.67   1710069\n",
      "   macro avg       0.51      0.74      0.43   1710069\n",
      "weighted avg       0.98      0.67      0.79   1710069\n",
      "\n",
      "\n",
      "Optimized LightGBM ROC AUC Score: 0.8002310673678478\n",
      "Optimized LightGBM Accuracy Score: 0.6681449695889464\n"
     ]
    }
   ],
   "source": [
    "import optuna\n",
    "from lightgbm import LGBMClassifier\n",
    "from sklearn.metrics import roc_auc_score\n",
    "\n",
    "# Optuna için hedef fonksiyon\n",
    "def objective(trial):\n",
    "    params = {\n",
    "        \"n_estimators\": trial.suggest_int(\"n_estimators\", 100, 500, step=50),  # 1000 yerine 500'e düşürdük\n",
    "        \"max_depth\": trial.suggest_int(\"max_depth\", 3, 8),  # Daha dar aralık\n",
    "        \"learning_rate\": trial.suggest_float(\"learning_rate\", 0.05, 0.2, log=True),  # Çok düşük learning rate denemiyoruz\n",
    "        \"num_leaves\": trial.suggest_int(\"num_leaves\", 20, 80),  # 150 yerine 80'e düşürdük\n",
    "        \"min_child_samples\": trial.suggest_int(\"min_child_samples\", 10, 50),  # 5-100 yerine 10-50\n",
    "        \"subsample\": trial.suggest_float(\"subsample\", 0.6, 1.0),  # Alt sınırı artırdık\n",
    "        \"colsample_bytree\": trial.suggest_float(\"colsample_bytree\", 0.6, 1.0),  # Çok düşük değerleri çıkardık\n",
    "        \"reg_lambda\": trial.suggest_float(\"reg_lambda\", 1e-3, 5.0, log=True),  # 10 yerine 5'e düşürdük\n",
    "        \"reg_alpha\": trial.suggest_float(\"reg_alpha\", 1e-3, 5.0, log=True),  # 10 yerine 5'e düşürdük\n",
    "    }\n",
    "    \n",
    "    # Modeli eğit\n",
    "    model = LGBMClassifier(objective=\"binary\", metric=\"auc\", random_state=42, **params, n_jobs=-1)  # Paralel çalıştırma\n",
    "    model.fit(X_train_resampled, y_train_resampled)\n",
    "    \n",
    "    # Tahmin yap\n",
    "    y_proba = model.predict_proba(X_test)[:, 1]\n",
    "    \n",
    "    # AUC skoru döndür\n",
    "    return roc_auc_score(y_test, y_proba)\n",
    "\n",
    "# Optuna’yı başlat ve hızlandırılmış şekilde çalıştır\n",
    "study = optuna.create_study(direction=\"maximize\")\n",
    "study.optimize(objective, n_trials=10, n_jobs=-1)  # Daha az deneme, paralel çalıştırma\n",
    "\n",
    "# En iyi parametreleri yazdır\n",
    "print(\"\\nEn İyi Parametreler (Hızlandırılmış LightGBM Optuna):\")\n",
    "print(study.best_params)\n",
    "\n",
    "# Optuna ile en iyi parametreleri kullanarak yeni LightGBM modeli eğitelim\n",
    "best_params = study.best_params\n",
    "optimized_lgbm = LGBMClassifier(objective=\"binary\", metric=\"auc\", random_state=42, **best_params, n_jobs=-1)\n",
    "\n",
    "# Modeli eğit\n",
    "optimized_lgbm.fit(X_train_resampled, y_train_resampled)\n",
    "\n",
    "# Tahmin yap\n",
    "y_pred_opt = optimized_lgbm.predict(X_test)\n",
    "y_proba_opt = optimized_lgbm.predict_proba(X_test)[:, 1]\n",
    "\n",
    "# Sonuçları değerlendirme\n",
    "print(\"\\nOptimized LightGBM Classification Report:\")\n",
    "print(classification_report(y_test, y_pred_opt))\n",
    "\n",
    "print(\"\\nOptimized LightGBM ROC AUC Score:\", roc_auc_score(y_test, y_proba_opt))\n",
    "print(\"Optimized LightGBM Accuracy Score:\", accuracy_score(y_test, y_pred_opt))"
   ]
  },
  {
   "cell_type": "code",
   "execution_count": 32,
   "metadata": {},
   "outputs": [
    {
     "data": {
      "application/vnd.plotly.v1+json": {
       "config": {
        "plotlyServerURL": "https://plot.ly"
       },
       "data": [
        {
         "cliponaxis": false,
         "hovertemplate": [
          "learning_rate (FloatDistribution): 0.019432234707215286<extra></extra>",
          "reg_lambda (FloatDistribution): 0.025739778293318624<extra></extra>",
          "max_depth (IntDistribution): 0.039864618284881234<extra></extra>",
          "min_child_samples (IntDistribution): 0.07969191280951189<extra></extra>",
          "reg_alpha (FloatDistribution): 0.08263663671369283<extra></extra>",
          "num_leaves (IntDistribution): 0.13281288712548295<extra></extra>",
          "subsample (FloatDistribution): 0.1825958278872102<extra></extra>",
          "n_estimators (IntDistribution): 0.20029307478864747<extra></extra>",
          "colsample_bytree (FloatDistribution): 0.23693302939003946<extra></extra>"
         ],
         "name": "Objective Value",
         "orientation": "h",
         "text": [
          "0.02",
          "0.03",
          "0.04",
          "0.08",
          "0.08",
          "0.13",
          "0.18",
          "0.20",
          "0.24"
         ],
         "textposition": "outside",
         "type": "bar",
         "x": [
          0.019432234707215286,
          0.025739778293318624,
          0.039864618284881234,
          0.07969191280951189,
          0.08263663671369283,
          0.13281288712548295,
          0.1825958278872102,
          0.20029307478864747,
          0.23693302939003946
         ],
         "y": [
          "learning_rate",
          "reg_lambda",
          "max_depth",
          "min_child_samples",
          "reg_alpha",
          "num_leaves",
          "subsample",
          "n_estimators",
          "colsample_bytree"
         ]
        }
       ],
       "layout": {
        "template": {
         "data": {
          "bar": [
           {
            "error_x": {
             "color": "#2a3f5f"
            },
            "error_y": {
             "color": "#2a3f5f"
            },
            "marker": {
             "line": {
              "color": "#E5ECF6",
              "width": 0.5
             },
             "pattern": {
              "fillmode": "overlay",
              "size": 10,
              "solidity": 0.2
             }
            },
            "type": "bar"
           }
          ],
          "barpolar": [
           {
            "marker": {
             "line": {
              "color": "#E5ECF6",
              "width": 0.5
             },
             "pattern": {
              "fillmode": "overlay",
              "size": 10,
              "solidity": 0.2
             }
            },
            "type": "barpolar"
           }
          ],
          "carpet": [
           {
            "aaxis": {
             "endlinecolor": "#2a3f5f",
             "gridcolor": "white",
             "linecolor": "white",
             "minorgridcolor": "white",
             "startlinecolor": "#2a3f5f"
            },
            "baxis": {
             "endlinecolor": "#2a3f5f",
             "gridcolor": "white",
             "linecolor": "white",
             "minorgridcolor": "white",
             "startlinecolor": "#2a3f5f"
            },
            "type": "carpet"
           }
          ],
          "choropleth": [
           {
            "colorbar": {
             "outlinewidth": 0,
             "ticks": ""
            },
            "type": "choropleth"
           }
          ],
          "contour": [
           {
            "colorbar": {
             "outlinewidth": 0,
             "ticks": ""
            },
            "colorscale": [
             [
              0,
              "#0d0887"
             ],
             [
              0.1111111111111111,
              "#46039f"
             ],
             [
              0.2222222222222222,
              "#7201a8"
             ],
             [
              0.3333333333333333,
              "#9c179e"
             ],
             [
              0.4444444444444444,
              "#bd3786"
             ],
             [
              0.5555555555555556,
              "#d8576b"
             ],
             [
              0.6666666666666666,
              "#ed7953"
             ],
             [
              0.7777777777777778,
              "#fb9f3a"
             ],
             [
              0.8888888888888888,
              "#fdca26"
             ],
             [
              1,
              "#f0f921"
             ]
            ],
            "type": "contour"
           }
          ],
          "contourcarpet": [
           {
            "colorbar": {
             "outlinewidth": 0,
             "ticks": ""
            },
            "type": "contourcarpet"
           }
          ],
          "heatmap": [
           {
            "colorbar": {
             "outlinewidth": 0,
             "ticks": ""
            },
            "colorscale": [
             [
              0,
              "#0d0887"
             ],
             [
              0.1111111111111111,
              "#46039f"
             ],
             [
              0.2222222222222222,
              "#7201a8"
             ],
             [
              0.3333333333333333,
              "#9c179e"
             ],
             [
              0.4444444444444444,
              "#bd3786"
             ],
             [
              0.5555555555555556,
              "#d8576b"
             ],
             [
              0.6666666666666666,
              "#ed7953"
             ],
             [
              0.7777777777777778,
              "#fb9f3a"
             ],
             [
              0.8888888888888888,
              "#fdca26"
             ],
             [
              1,
              "#f0f921"
             ]
            ],
            "type": "heatmap"
           }
          ],
          "heatmapgl": [
           {
            "colorbar": {
             "outlinewidth": 0,
             "ticks": ""
            },
            "colorscale": [
             [
              0,
              "#0d0887"
             ],
             [
              0.1111111111111111,
              "#46039f"
             ],
             [
              0.2222222222222222,
              "#7201a8"
             ],
             [
              0.3333333333333333,
              "#9c179e"
             ],
             [
              0.4444444444444444,
              "#bd3786"
             ],
             [
              0.5555555555555556,
              "#d8576b"
             ],
             [
              0.6666666666666666,
              "#ed7953"
             ],
             [
              0.7777777777777778,
              "#fb9f3a"
             ],
             [
              0.8888888888888888,
              "#fdca26"
             ],
             [
              1,
              "#f0f921"
             ]
            ],
            "type": "heatmapgl"
           }
          ],
          "histogram": [
           {
            "marker": {
             "pattern": {
              "fillmode": "overlay",
              "size": 10,
              "solidity": 0.2
             }
            },
            "type": "histogram"
           }
          ],
          "histogram2d": [
           {
            "colorbar": {
             "outlinewidth": 0,
             "ticks": ""
            },
            "colorscale": [
             [
              0,
              "#0d0887"
             ],
             [
              0.1111111111111111,
              "#46039f"
             ],
             [
              0.2222222222222222,
              "#7201a8"
             ],
             [
              0.3333333333333333,
              "#9c179e"
             ],
             [
              0.4444444444444444,
              "#bd3786"
             ],
             [
              0.5555555555555556,
              "#d8576b"
             ],
             [
              0.6666666666666666,
              "#ed7953"
             ],
             [
              0.7777777777777778,
              "#fb9f3a"
             ],
             [
              0.8888888888888888,
              "#fdca26"
             ],
             [
              1,
              "#f0f921"
             ]
            ],
            "type": "histogram2d"
           }
          ],
          "histogram2dcontour": [
           {
            "colorbar": {
             "outlinewidth": 0,
             "ticks": ""
            },
            "colorscale": [
             [
              0,
              "#0d0887"
             ],
             [
              0.1111111111111111,
              "#46039f"
             ],
             [
              0.2222222222222222,
              "#7201a8"
             ],
             [
              0.3333333333333333,
              "#9c179e"
             ],
             [
              0.4444444444444444,
              "#bd3786"
             ],
             [
              0.5555555555555556,
              "#d8576b"
             ],
             [
              0.6666666666666666,
              "#ed7953"
             ],
             [
              0.7777777777777778,
              "#fb9f3a"
             ],
             [
              0.8888888888888888,
              "#fdca26"
             ],
             [
              1,
              "#f0f921"
             ]
            ],
            "type": "histogram2dcontour"
           }
          ],
          "mesh3d": [
           {
            "colorbar": {
             "outlinewidth": 0,
             "ticks": ""
            },
            "type": "mesh3d"
           }
          ],
          "parcoords": [
           {
            "line": {
             "colorbar": {
              "outlinewidth": 0,
              "ticks": ""
             }
            },
            "type": "parcoords"
           }
          ],
          "pie": [
           {
            "automargin": true,
            "type": "pie"
           }
          ],
          "scatter": [
           {
            "fillpattern": {
             "fillmode": "overlay",
             "size": 10,
             "solidity": 0.2
            },
            "type": "scatter"
           }
          ],
          "scatter3d": [
           {
            "line": {
             "colorbar": {
              "outlinewidth": 0,
              "ticks": ""
             }
            },
            "marker": {
             "colorbar": {
              "outlinewidth": 0,
              "ticks": ""
             }
            },
            "type": "scatter3d"
           }
          ],
          "scattercarpet": [
           {
            "marker": {
             "colorbar": {
              "outlinewidth": 0,
              "ticks": ""
             }
            },
            "type": "scattercarpet"
           }
          ],
          "scattergeo": [
           {
            "marker": {
             "colorbar": {
              "outlinewidth": 0,
              "ticks": ""
             }
            },
            "type": "scattergeo"
           }
          ],
          "scattergl": [
           {
            "marker": {
             "colorbar": {
              "outlinewidth": 0,
              "ticks": ""
             }
            },
            "type": "scattergl"
           }
          ],
          "scattermapbox": [
           {
            "marker": {
             "colorbar": {
              "outlinewidth": 0,
              "ticks": ""
             }
            },
            "type": "scattermapbox"
           }
          ],
          "scatterpolar": [
           {
            "marker": {
             "colorbar": {
              "outlinewidth": 0,
              "ticks": ""
             }
            },
            "type": "scatterpolar"
           }
          ],
          "scatterpolargl": [
           {
            "marker": {
             "colorbar": {
              "outlinewidth": 0,
              "ticks": ""
             }
            },
            "type": "scatterpolargl"
           }
          ],
          "scatterternary": [
           {
            "marker": {
             "colorbar": {
              "outlinewidth": 0,
              "ticks": ""
             }
            },
            "type": "scatterternary"
           }
          ],
          "surface": [
           {
            "colorbar": {
             "outlinewidth": 0,
             "ticks": ""
            },
            "colorscale": [
             [
              0,
              "#0d0887"
             ],
             [
              0.1111111111111111,
              "#46039f"
             ],
             [
              0.2222222222222222,
              "#7201a8"
             ],
             [
              0.3333333333333333,
              "#9c179e"
             ],
             [
              0.4444444444444444,
              "#bd3786"
             ],
             [
              0.5555555555555556,
              "#d8576b"
             ],
             [
              0.6666666666666666,
              "#ed7953"
             ],
             [
              0.7777777777777778,
              "#fb9f3a"
             ],
             [
              0.8888888888888888,
              "#fdca26"
             ],
             [
              1,
              "#f0f921"
             ]
            ],
            "type": "surface"
           }
          ],
          "table": [
           {
            "cells": {
             "fill": {
              "color": "#EBF0F8"
             },
             "line": {
              "color": "white"
             }
            },
            "header": {
             "fill": {
              "color": "#C8D4E3"
             },
             "line": {
              "color": "white"
             }
            },
            "type": "table"
           }
          ]
         },
         "layout": {
          "annotationdefaults": {
           "arrowcolor": "#2a3f5f",
           "arrowhead": 0,
           "arrowwidth": 1
          },
          "autotypenumbers": "strict",
          "coloraxis": {
           "colorbar": {
            "outlinewidth": 0,
            "ticks": ""
           }
          },
          "colorscale": {
           "diverging": [
            [
             0,
             "#8e0152"
            ],
            [
             0.1,
             "#c51b7d"
            ],
            [
             0.2,
             "#de77ae"
            ],
            [
             0.3,
             "#f1b6da"
            ],
            [
             0.4,
             "#fde0ef"
            ],
            [
             0.5,
             "#f7f7f7"
            ],
            [
             0.6,
             "#e6f5d0"
            ],
            [
             0.7,
             "#b8e186"
            ],
            [
             0.8,
             "#7fbc41"
            ],
            [
             0.9,
             "#4d9221"
            ],
            [
             1,
             "#276419"
            ]
           ],
           "sequential": [
            [
             0,
             "#0d0887"
            ],
            [
             0.1111111111111111,
             "#46039f"
            ],
            [
             0.2222222222222222,
             "#7201a8"
            ],
            [
             0.3333333333333333,
             "#9c179e"
            ],
            [
             0.4444444444444444,
             "#bd3786"
            ],
            [
             0.5555555555555556,
             "#d8576b"
            ],
            [
             0.6666666666666666,
             "#ed7953"
            ],
            [
             0.7777777777777778,
             "#fb9f3a"
            ],
            [
             0.8888888888888888,
             "#fdca26"
            ],
            [
             1,
             "#f0f921"
            ]
           ],
           "sequentialminus": [
            [
             0,
             "#0d0887"
            ],
            [
             0.1111111111111111,
             "#46039f"
            ],
            [
             0.2222222222222222,
             "#7201a8"
            ],
            [
             0.3333333333333333,
             "#9c179e"
            ],
            [
             0.4444444444444444,
             "#bd3786"
            ],
            [
             0.5555555555555556,
             "#d8576b"
            ],
            [
             0.6666666666666666,
             "#ed7953"
            ],
            [
             0.7777777777777778,
             "#fb9f3a"
            ],
            [
             0.8888888888888888,
             "#fdca26"
            ],
            [
             1,
             "#f0f921"
            ]
           ]
          },
          "colorway": [
           "#636efa",
           "#EF553B",
           "#00cc96",
           "#ab63fa",
           "#FFA15A",
           "#19d3f3",
           "#FF6692",
           "#B6E880",
           "#FF97FF",
           "#FECB52"
          ],
          "font": {
           "color": "#2a3f5f"
          },
          "geo": {
           "bgcolor": "white",
           "lakecolor": "white",
           "landcolor": "#E5ECF6",
           "showlakes": true,
           "showland": true,
           "subunitcolor": "white"
          },
          "hoverlabel": {
           "align": "left"
          },
          "hovermode": "closest",
          "mapbox": {
           "style": "light"
          },
          "paper_bgcolor": "white",
          "plot_bgcolor": "#E5ECF6",
          "polar": {
           "angularaxis": {
            "gridcolor": "white",
            "linecolor": "white",
            "ticks": ""
           },
           "bgcolor": "#E5ECF6",
           "radialaxis": {
            "gridcolor": "white",
            "linecolor": "white",
            "ticks": ""
           }
          },
          "scene": {
           "xaxis": {
            "backgroundcolor": "#E5ECF6",
            "gridcolor": "white",
            "gridwidth": 2,
            "linecolor": "white",
            "showbackground": true,
            "ticks": "",
            "zerolinecolor": "white"
           },
           "yaxis": {
            "backgroundcolor": "#E5ECF6",
            "gridcolor": "white",
            "gridwidth": 2,
            "linecolor": "white",
            "showbackground": true,
            "ticks": "",
            "zerolinecolor": "white"
           },
           "zaxis": {
            "backgroundcolor": "#E5ECF6",
            "gridcolor": "white",
            "gridwidth": 2,
            "linecolor": "white",
            "showbackground": true,
            "ticks": "",
            "zerolinecolor": "white"
           }
          },
          "shapedefaults": {
           "line": {
            "color": "#2a3f5f"
           }
          },
          "ternary": {
           "aaxis": {
            "gridcolor": "white",
            "linecolor": "white",
            "ticks": ""
           },
           "baxis": {
            "gridcolor": "white",
            "linecolor": "white",
            "ticks": ""
           },
           "bgcolor": "#E5ECF6",
           "caxis": {
            "gridcolor": "white",
            "linecolor": "white",
            "ticks": ""
           }
          },
          "title": {
           "x": 0.05
          },
          "xaxis": {
           "automargin": true,
           "gridcolor": "white",
           "linecolor": "white",
           "ticks": "",
           "title": {
            "standoff": 15
           },
           "zerolinecolor": "white",
           "zerolinewidth": 2
          },
          "yaxis": {
           "automargin": true,
           "gridcolor": "white",
           "linecolor": "white",
           "ticks": "",
           "title": {
            "standoff": 15
           },
           "zerolinecolor": "white",
           "zerolinewidth": 2
          }
         }
        },
        "title": {
         "text": "Hyperparameter Importances"
        },
        "xaxis": {
         "title": {
          "text": "Hyperparameter Importance"
         }
        },
        "yaxis": {
         "title": {
          "text": "Hyperparameter"
         }
        }
       }
      }
     },
     "metadata": {},
     "output_type": "display_data"
    }
   ],
   "source": [
    "optuna.visualization.plot_param_importances(study)\n"
   ]
  },
  {
   "cell_type": "markdown",
   "metadata": {},
   "source": [
    "Bu grafikler, hangi hiperparametrenin modelin performansına ne kadar katkıda bulunduğunu gösterir.\n",
    "\n",
    ". Optuna Parametre Önem Sıralaması Ne Anlama Geliyor?\n",
    "Optuna’nın plot_param_importances(study) çıktısı hangi hiperparametrelerin AUC skoruna en çok etki ettiğini gösterir.\n",
    "\n",
    "Grafikte en üstteki parametre en kritik olanıdır.\n",
    "En alttaki parametre ise modelin performansını neredeyse hiç değiştirmemiştir.\n"
   ]
  },
  {
   "cell_type": "code",
   "execution_count": 33,
   "metadata": {},
   "outputs": [
    {
     "name": "stdout",
     "output_type": "stream",
     "text": [
      "✅ LightGBM modeli başarıyla kaydedildi!\n"
     ]
    }
   ],
   "source": [
    "import joblib  \n",
    "\n",
    "# Optuna ile en iyi parametreleri bulan modeli kaydedelim\n",
    "joblib.dump(optimized_lgbm, \"optimized_lightgbm.pkl\")  \n",
    "\n",
    "print(\"✅ LightGBM modeli başarıyla kaydedildi!\")\n"
   ]
  },
  {
   "cell_type": "markdown",
   "metadata": {},
   "source": [
    "Aşağıda analize devam ediyorum."
   ]
  },
  {
   "cell_type": "code",
   "execution_count": null,
   "metadata": {},
   "outputs": [
    {
     "name": "stdout",
     "output_type": "stream",
     "text": [
      "         churn_probability  tenure  satisfaction_score  monthly_charge  roaming_usage  age_group\n",
      "4545911              0.915  68.000               2.980         318.890         57.980          2\n",
      "557640               0.912  21.000               1.010         501.670         58.840          1\n",
      "7851060              0.909  32.000               1.760         511.700         55.240          1\n",
      "7887665              0.908  90.000               2.900         469.480         58.050          1\n",
      "1064167              0.908 307.000               2.510         455.380         18.030          0\n",
      "390771               0.906 106.000               2.770          93.760         57.870          2\n",
      "7220958              0.906 313.000               2.710          89.540          6.710          0\n",
      "1526829              0.906 287.000               1.410          86.960         23.010          3\n",
      "1359809              0.906 323.000               1.230          99.650         28.010          0\n",
      "3401067              0.905  49.000               2.430         584.190         58.190          1\n",
      "1818128              0.905  31.000               2.960         318.810         55.610          2\n",
      "3184196              0.905  18.000               2.270         386.710         22.190          1\n",
      "6493121              0.905   1.000               1.430         928.010         38.100          3\n",
      "4440020              0.905   1.000               1.450         914.080         38.460          3\n",
      "3957210              0.904  22.000               2.540         317.780         20.650          1\n",
      "6691391              0.904  17.000               1.130         352.880         25.580          1\n",
      "2594496              0.904 319.000               2.660         801.840          1.760          0\n",
      "3634550              0.904  69.000               1.750         886.220         58.830          2\n",
      "4114009              0.904 300.000               2.550         488.790         21.910          1\n",
      "5235921              0.904  52.000               2.490         378.790         42.450          3\n",
      "5921015              0.903 104.000               2.260         440.930         58.620          2\n",
      "4613364              0.903 311.000               2.260         334.470         40.800          2\n",
      "7981024              0.903 295.000               1.410         267.490          2.560          1\n",
      "1715328              0.903 291.000               1.380        1118.110         11.280          3\n",
      "559558               0.903  89.000               2.870         371.530         58.080          3\n",
      "453066               0.903 177.000               2.900         573.830         56.480          2\n",
      "6144121              0.903 168.000               2.770         823.840         56.280          1\n",
      "3839651              0.903 132.000               2.540        1007.320         58.510          2\n",
      "8198764              0.903  43.000               2.950         492.600         44.710          0\n",
      "41109                0.903  24.000               2.600         254.320         55.360          1\n",
      "7086763              0.903  36.000               1.110        1177.860          5.870          0\n",
      "3973770              0.902 338.000               1.070         891.250          7.590          2\n",
      "7446681              0.902  42.000               2.540         109.290         40.490          3\n",
      "7780873              0.902   2.000               2.820         280.780         34.230          3\n",
      "2340558              0.902 290.000               2.910         250.180         20.430          0\n",
      "4182903              0.902 319.000               2.340         490.100          8.010          0\n",
      "569943               0.902  78.000               1.480         879.910         57.010          0\n",
      "1638328              0.902  23.000               2.970         947.720          1.600          1\n",
      "7125437              0.902 310.000               2.820         537.710         22.260          0\n",
      "3650722              0.902 322.000               1.650          91.810         14.670          0\n",
      "5237974              0.902  21.000               1.890         503.590         21.260          2\n",
      "5730887              0.902 312.000               2.850         259.630         19.760          2\n",
      "1099727              0.902  32.000               1.220         107.550         18.420          0\n",
      "2262557              0.901  19.000               2.200         494.000         55.600          2\n",
      "3800023              0.901   3.000               1.200         481.977          2.240          1\n",
      "7812575              0.901  27.000               2.780         111.920         17.280          0\n",
      "3055516              0.901 194.000               2.000         975.190          5.010          1\n",
      "5991227              0.901  38.000               1.350         533.350         54.470          2\n",
      "622819               0.901  33.000               2.920         472.720         31.780          0\n",
      "4811933              0.901 333.000               2.910         227.730          8.050          0\n"
     ]
    }
   ],
   "source": [
    "# Churn olasılıklarını alalım\n",
    "X_test[\"churn_probability\"] = y_proba_opt  # LightGBM’den gelen olasılık skorları\n",
    "\n",
    "# En riskli müşterileri sıralayalım\n",
    "top_risky_customers = X_test.sort_values(by=\"churn_probability\", ascending=False).head(500)\n",
    "\n",
    "# En yüksek churn riski taşıyan müşterileri görüntüleyelim\n",
    "print(top_risky_customers[[\"churn_probability\", \"tenure\", \"satisfaction_score\", \"monthly_charge\", \"roaming_usage\"]].head(50))\n"
   ]
  },
  {
   "cell_type": "code",
   "execution_count": null,
   "metadata": {},
   "outputs": [],
   "source": []
  }
 ],
 "metadata": {
  "kernelspec": {
   "display_name": "base",
   "language": "python",
   "name": "python3"
  },
  "language_info": {
   "codemirror_mode": {
    "name": "ipython",
    "version": 3
   },
   "file_extension": ".py",
   "mimetype": "text/x-python",
   "name": "python",
   "nbconvert_exporter": "python",
   "pygments_lexer": "ipython3",
   "version": "3.11.5"
  }
 },
 "nbformat": 4,
 "nbformat_minor": 2
}
